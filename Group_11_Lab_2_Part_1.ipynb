{
 "cells": [
  {
   "cell_type": "markdown",
   "id": "77b9a642",
   "metadata": {
    "id": "77b9a642"
   },
   "source": [
    "# Lab 2 - Image preprocessing and using a fully connected neural network for image classification.\n",
    "\n",
    "This lab will be done in two parts\n",
    "\n",
    "\n",
    "> Indented block\n",
    "\n",
    "*   Part 1 - Task 1 - 4\n",
    "*   Part 2 - Task 5 & 6\n",
    "\n",
    "\n",
    "---\n",
    "\n",
    "In this lab, we will take our first steps toward running our code in the cloud. One of the simplest way to accomplish this is through Google's free (although, there is a paid Pro version) service, **Colab**.\n",
    "\n",
    "This lab has 3 main tasks:\n",
    "\n",
    "- **Task 1**: Get set up with Google Colab\n",
    "- **Task 2**: Get the neural network you created in **Lab 1: Exercise 7** running without error in Google Colab\n",
    "- **Task 3**: Preprocess images for use in Part 2 (20 Marks)\n",
    "- **Task 4** **Viva** - Question will be based on Week 1 & 2 (Lectures & Labs) (10)\n",
    "\n",
    "*** Viva will be conducted during Week 3 & 4 during yours Lab sessions**\n",
    "\n"
   ]
  },
  {
   "cell_type": "markdown",
   "id": "049e5f74",
   "metadata": {
    "id": "049e5f74"
   },
   "source": [
    "## Task 1\n",
    "\n",
    "To use **Colab**, you need to have a Google account. To get a free Google account, go the the [sign up](https://accounts.google.com/) and fill in the necessary information. If you already have a Google account, you can skip this step. (If you have a gmail address, then you already have a Google Account.)\n",
    "\n",
    "!\n",
    "\n",
    "Once you have an account, you will need to sign in. To do this, go to [google.com](https://google.com):\n",
    "\n",
    "<img src=\"images/google_signin.png\" width=600 align=\"center\">\n",
    "\n",
    "After you are signed in, navigate to [Google Colab](https://colab.research.google.com).\n",
    "\n",
    "<img src=\"images/colab_intro.png\" width=600 align=\"center\">\n",
    "\n",
    "From here, click on **New Notebook**, give the notebook a name and then **save** it. Now you should verify the folder structure in **Google Drive**. To do this, you should navigate back to [google.com](https://google.com), and select **Drive** from the menu at the top right:\n",
    "\n",
    "<img src=\"images/drive.png\" width=600 align=\"center\">\n",
    "\n",
    "Once you are in your Google Drive, you should have a folder structure identical to the following (the name you gave your notebook can be different):\n",
    "<img src=\"images/colab_notebook_save.png\" width=600 align=\"center\">"
   ]
  },
  {
   "cell_type": "markdown",
   "id": "c08199bc",
   "metadata": {
    "id": "c08199bc"
   },
   "source": [
    "## Task 2\n",
    "\n",
    "Following the procedure outlined in Lab 1, reproduce the code created in Exercise 7 in Google Colab. Verify that you get similar results using the same MNIST data that you used for Lab 1.\n",
    "\n",
    "To upload the Lab 1 file (or any other file) to your Google Drive, simply click on the **New** button in the top left, and then selct **File upload**:\n",
    "\n",
    "<img src=\"images/lab_upload.png\" width=600 align=\"center\">\n"
   ]
  },
  {
   "cell_type": "markdown",
   "id": "b72ccd53",
   "metadata": {
    "id": "b72ccd53"
   },
   "source": [
    "### Extra Computational Power\n",
    "\n",
    "One reason to use Google Colab is because it offers extra computational power in the form of access to GPUs for training larger models. As this is a free service, the extra compute resources come with some limitations (see Resource Limits section in the [FAQ](https://research.google.com/colaboratory/faq.html)). To access these extra compute resources, select the **Runtime** tab:\n",
    "\n",
    "<img src=\"images/runtime_1.png\" width=600 align=\"center\">\n",
    "\n",
    "Then select **Change runtime type**, choose **GPU** from the drop-down menu, and click **Save**:\n",
    "\n",
    "<img src=\"images/runtime_2.png\" width=600 align=\"center\">\n",
    "\n",
    "Now, when you run code in that notebook, it can run on GPUs instead of CPUs."
   ]
  },
  {
   "cell_type": "code",
   "execution_count": 1,
   "id": "4ca6020d",
   "metadata": {
    "colab": {
     "base_uri": "https://localhost:8080/"
    },
    "id": "4ca6020d",
    "outputId": "ab10ddca-d3b9-4a79-ba88-2f946494f90f"
   },
   "outputs": [],
   "source": [
    "from tensorflow.keras.datasets import mnist\n",
    "from keras.layers import Dropout\n",
    "from tensorflow.keras.optimizers import Adam\n",
    "from tensorflow.keras.initializers import GlorotUniform\n",
    "(train_images, train_labels), (test_images, test_labels) = mnist.load_data()"
   ]
  },
  {
   "cell_type": "code",
   "execution_count": 2,
   "id": "lK27rqL2Dwwy",
   "metadata": {
    "id": "lK27rqL2Dwwy"
   },
   "outputs": [],
   "source": [
    "train_images = train_images.astype('float32') / 255\n",
    "train_images = train_images.reshape((60000, 28 * 28))\n",
    "\n",
    "test_images = test_images.astype('float32') / 255\n",
    "test_images = test_images.reshape((10000, 28 * 28))"
   ]
  },
  {
   "cell_type": "code",
   "execution_count": 3,
   "id": "hC3-APV8DzuI",
   "metadata": {
    "id": "hC3-APV8DzuI"
   },
   "outputs": [],
   "source": [
    "from tensorflow.keras.utils import to_categorical\n",
    "\n",
    "train_labels = to_categorical(train_labels)\n",
    "test_labels = to_categorical(test_labels)"
   ]
  },
  {
   "cell_type": "code",
   "execution_count": 4,
   "id": "CLhfTOJsD4io",
   "metadata": {
    "colab": {
     "base_uri": "https://localhost:8080/"
    },
    "id": "CLhfTOJsD4io",
    "outputId": "f695587c-f131-4274-ca1b-c9301baf0e86"
   },
   "outputs": [
    {
     "name": "stdout",
     "output_type": "stream",
     "text": [
      "Model: \"sequential_1\"\n",
      "_________________________________________________________________\n",
      " Layer (type)                Output Shape              Param #   \n",
      "=================================================================\n",
      " dense (Dense)               (None, 500)               392500    \n",
      "                                                                 \n",
      " dense_1 (Dense)             (None, 100)               50100     \n",
      "                                                                 \n",
      " dropout (Dropout)           (None, 100)               0         \n",
      "                                                                 \n",
      " dense_2 (Dense)             (None, 10)                1010      \n",
      "                                                                 \n",
      "=================================================================\n",
      "Total params: 443610 (1.69 MB)\n",
      "Trainable params: 443610 (1.69 MB)\n",
      "Non-trainable params: 0 (0.00 Byte)\n",
      "_________________________________________________________________\n",
      "Epoch 1/5\n",
      "1765/1765 [==============================] - 17s 9ms/step - loss: 0.2015 - accuracy: 0.9392\n",
      "Epoch 2/5\n",
      "1765/1765 [==============================] - 16s 9ms/step - loss: 0.0857 - accuracy: 0.9734\n",
      "Epoch 3/5\n",
      "1765/1765 [==============================] - 16s 9ms/step - loss: 0.0603 - accuracy: 0.9807\n",
      "Epoch 4/5\n",
      "1765/1765 [==============================] - 16s 9ms/step - loss: 0.0453 - accuracy: 0.9855\n",
      "Epoch 5/5\n",
      "1765/1765 [==============================] - 16s 9ms/step - loss: 0.0350 - accuracy: 0.9890\n",
      "313/313 [==============================] - 1s 4ms/step - loss: 0.0855 - accuracy: 0.9748\n",
      "test_acc: 0.9747999906539917\n"
     ]
    }
   ],
   "source": [
    "from tensorflow.keras.models import Sequential\n",
    "from tensorflow.keras.layers import Dense\n",
    "\n",
    "network = Sequential()\n",
    "sequential_7 = Sequential()\n",
    "sequential_7.add(Dense(500, activation='relu', input_shape=(28 * 28,)))\n",
    "sequential_7.add(Dense(100, activation='tanh', input_shape=(500,), kernel_initializer=GlorotUniform()))\n",
    "sequential_7.add(Dropout(0.25))\n",
    "sequential_7.add(Dense(10, activation='softmax'))\n",
    "\n",
    "sequential_7.summary()\n",
    "\n",
    "sequential_7.compile(optimizer=Adam(learning_rate = 0.001),\n",
    "                loss='categorical_crossentropy',\n",
    "                metrics=['accuracy'])\n",
    "\n",
    "sequential_7.fit(train_images, train_labels, epochs=5, batch_size=34, verbose=1)\n",
    "\n",
    "test_loss, test_acc = sequential_7.evaluate(test_images, test_labels)\n",
    "print('test_acc:', test_acc)"
   ]
  },
  {
   "cell_type": "markdown",
   "id": "b6dafb6b",
   "metadata": {
    "id": "b6dafb6b"
   },
   "source": [
    "## Task 3\n",
    "\n",
    "The first step here is to upload the **Lego_small** data ([source](https://www.kaggle.com/joosthazelzet/lego-brick-images) that was provided with this notebook. (**Do not use the data from the *source* link.**) To do this, just upload the entire folder to your Google Drive. When you have done that you should have a folder structure that looks something like this:\n",
    "\n",
    "<img src=\"images/lab_upload_lego.png\" width=600 align=\"center\">"
   ]
  },
  {
   "cell_type": "markdown",
   "id": "cdcc8d7c",
   "metadata": {
    "id": "cdcc8d7c"
   },
   "source": [
    "To have access to the data in your Google Drive, you will need to run the following code to 'mount' your Drive so it is accessible to the notebook you are running on Google Colab. When you run the code, following the instructions so that your notebook can access the data."
   ]
  },
  {
   "cell_type": "code",
   "execution_count": 5,
   "id": "d0a24fec",
   "metadata": {
    "colab": {
     "base_uri": "https://localhost:8080/"
    },
    "id": "d0a24fec",
    "outputId": "16f54cf7-5c9f-4931-9db3-f98280901112"
   },
   "outputs": [
    {
     "ename": "ModuleNotFoundError",
     "evalue": "No module named 'google.colab'",
     "output_type": "error",
     "traceback": [
      "\u001b[1;31m---------------------------------------------------------------------------\u001b[0m",
      "\u001b[1;31mModuleNotFoundError\u001b[0m                       Traceback (most recent call last)",
      "\u001b[1;32m~\\AppData\\Local\\Temp\\ipykernel_23348\\1071574662.py\u001b[0m in \u001b[0;36m<module>\u001b[1;34m\u001b[0m\n\u001b[1;32m----> 1\u001b[1;33m \u001b[1;32mfrom\u001b[0m \u001b[0mgoogle\u001b[0m\u001b[1;33m.\u001b[0m\u001b[0mcolab\u001b[0m \u001b[1;32mimport\u001b[0m \u001b[0mdrive\u001b[0m\u001b[1;33m\u001b[0m\u001b[1;33m\u001b[0m\u001b[0m\n\u001b[0m\u001b[0;32m      2\u001b[0m \u001b[1;33m\u001b[0m\u001b[0m\n\u001b[0;32m      3\u001b[0m \u001b[0mdrive\u001b[0m\u001b[1;33m.\u001b[0m\u001b[0mmount\u001b[0m\u001b[1;33m(\u001b[0m\u001b[1;34m'/content/drive'\u001b[0m\u001b[1;33m)\u001b[0m\u001b[1;33m\u001b[0m\u001b[1;33m\u001b[0m\u001b[0m\n",
      "\u001b[1;31mModuleNotFoundError\u001b[0m: No module named 'google.colab'"
     ]
    }
   ],
   "source": [
    "from google.colab import drive\n",
    "\n",
    "drive.mount('/content/drive')"
   ]
  },
  {
   "cell_type": "markdown",
   "id": "dc73cc96",
   "metadata": {
    "id": "dc73cc96"
   },
   "source": [
    "Now, you need to convert the images you just uploaded into a data structure similar to the MNIST data from Lab 1. The number of images and the pixel dimensions are, however, different than the MNIST data.\n",
    "\n",
    "**The goal here is to get the data into the correct shape so that you can use it with a fully connected neural network.**\n",
    "\n",
    "To accomplish this task, you will need to:\n",
    " - load the images from the various folders of the provided data\n",
    " - make sure they are grayscale and not RGB\n",
    " - convert the images to NumPy arrays\n",
    " - resize any images that are not the correct size\n",
    " - store these arrays in the proper shape in an appropriate data structure\n",
    " - create a target array to keep track of the proper class of each image in your data\n",
    " - view a few images after processing to verify that everything is working as it should\n",
    " - convert image arrays to one-dimensional and scale the pixel values so they are between 0 and 1\n",
    " - verify the images and target arrays have the correct dimensions\n",
    " - convert string labels to integers\n",
    "\n",
    "Aside from the packages imported below, you may find the following helpful to process the images properly:\n",
    " - [info](https://realpython.com/python-pathlib/) on `Path` so you know how to create a path to the images\n",
    " - the `.name` method that can the file or directory name from a `Path` object\n",
    " - the `.reshape()` method\n",
    " - the `.append()` method\n",
    "\n",
    "**Note that not all of the tasks above have starter code below, so be sure you have completed all tasks.**"
   ]
  },
  {
   "cell_type": "code",
   "execution_count": 6,
   "id": "d94e74d7",
   "metadata": {
    "id": "d94e74d7"
   },
   "outputs": [],
   "source": [
    "from tensorflow.keras.preprocessing.image import load_img, img_to_array, smart_resize\n",
    "import matplotlib.pyplot as plt\n",
    "from pathlib import Path\n",
    "import numpy as np"
   ]
  },
  {
   "cell_type": "markdown",
   "id": "c80299e6",
   "metadata": {
    "id": "c80299e6"
   },
   "source": [
    "Fill in the missing elements of the starter code below."
   ]
  },
  {
   "cell_type": "code",
   "execution_count": 14,
   "id": "2cb5a124",
   "metadata": {
    "id": "2cb5a124"
   },
   "outputs": [],
   "source": [
    "p = Path().cwd()\n",
    "q =  p / '/content/drive/MyDrive/Lego_small' # None # use p to create a path to the data\n",
    "\n",
    "target_dict = {'brick 1x2' : 0,\n",
    "               'brick 2x2' : 1,\n",
    "               'brick 2x4' : 2,\n",
    "               'plate 1x2' : 3,\n",
    "               'plate 2x2' : 4,\n",
    "               'plate 2x4' : 5} # create dictionary mapping Lego block type to integer label\n",
    "images = [] # create an empty list\n",
    "labels = [] # create an empty list\n",
    "\n",
    "for fldr in q.iterdir():\n",
    "    current_label = fldr.name # get the name of the current label\n",
    "    for img in fldr.iterdir():\n",
    "        img = load_img(img, color_mode='grayscale') # load a grayscale image\n",
    "        img_array = img_to_array(img) # convert the image to an NumPy array\n",
    "        img_array_resized = smart_resize(img_array,[128,128]) # resize the image to 128 by 128\n",
    "        img_array_reshaped = img_array_resized  # reshape the image from (128, 128, 1) to (128, 128)\n",
    "        images.append(img_array_reshaped)# add reshaped image to list of images\n",
    "        labels.append(current_label)# add label for this image to the list of labels\n",
    "\n",
    "images = np.array(images) # convert the list of images to a NumPy array\n",
    "labels = np.array(labels) # convert the list of labels to a NumPy array"
   ]
  },
  {
   "cell_type": "code",
   "execution_count": 18,
   "id": "P9s6jYGqLrFA",
   "metadata": {
    "id": "P9s6jYGqLrFA"
   },
   "outputs": [],
   "source": [
    "#print(images)"
   ]
  },
  {
   "cell_type": "code",
   "execution_count": 16,
   "id": "7e46b22a",
   "metadata": {
    "colab": {
     "base_uri": "https://localhost:8080/",
     "height": 451
    },
    "id": "7e46b22a",
    "outputId": "4df66d7c-2700-4ff1-c745-d00f1f8ef566"
   },
   "outputs": [
    {
     "data": {
      "text/plain": [
       "<matplotlib.image.AxesImage at 0x7e276ae3a920>"
      ]
     },
     "execution_count": 16,
     "metadata": {},
     "output_type": "execute_result"
    },
    {
     "data": {
      "image/png": "[encoded data removed]",
      "text/plain": [
       "<Figure size 640x480 with 1 Axes>"
      ]
     },
     "metadata": {},
     "output_type": "display_data"
    }
   ],
   "source": [
    "# use plt.imshow() to view a few of the grayscale images\n",
    "\n",
    "plt.imshow(images[0], cmap='gray')"
   ]
  },
  {
   "cell_type": "code",
   "execution_count": 17,
   "id": "91df13f9",
   "metadata": {
    "id": "91df13f9"
   },
   "outputs": [],
   "source": [
    "labels_int = np.array([target_dict[label] for label in labels]) # use the target_dict to convert the string labels to an array of integers"
   ]
  },
  {
   "cell_type": "markdown",
   "id": "pXyIRiIoho6U",
   "metadata": {
    "id": "pXyIRiIoho6U"
   },
   "source": [
    "**Answer the following questions briefly**\n",
    "\n",
    "**1. Why do you convert all the images to same dimensions?**\n",
    "*   Standardizing image dimensions is crucial because it allows us to establish a consistent number of neurons for the input layer. Ensuring uniform input features is essential for neural networks to function effectively.\n",
    "*   Dealing with images of various sizes can be computationally expensive, particularly when using deep learning frameworks. When we resize images to a consistent size from the outset, it reduces the computational burden during training, as the model's input dimensions are predetermined and fixed.\n",
    "\n",
    "\n",
    "**2. Why do you reshape the images?**\n",
    "*   Reshaping images is a crucial step in preparing your data for machine learning models. It ensures that all images have the same dimensions, which is a requirement for most ML algorithms.\n",
    "*   To match the expected input shape of a neural network, training data must be reshaped.\n",
    "\n",
    "\n",
    "\n",
    "**3. Based on the images and labels obtained after all of the above preprocessing steps, how many neurons will be created in the input and output layers for the fully linked network that you will construct in Lab 2 - Part 2?**\n",
    "\n",
    "*   **Input Layer:** We have loaded images and resized them to 128x128 pixels. The dimensions of each resized image is now 128x128 pixels. Therefore, the input layer of your neural network will have 128 * 128 = 16,384 neurons.\n",
    "\n",
    "*   **Output Layer:** Our target_dict maps Lego block types to thier integer labels. We have 6 unique labels in dataset (labels 0 to 5) for different Lego block types. Thus,  we will be having 6 neurons in our output layer.\n",
    "\n",
    "\n",
    "\n",
    "\n",
    "\n",
    "\n"
   ]
  }
 ],
 "metadata": {
  "accelerator": "GPU",
  "colab": {
   "gpuType": "T4",
   "provenance": []
  },
  "kernelspec": {
   "display_name": "Python 3 (ipykernel)",
   "language": "python",
   "name": "python3"
  },
  "language_info": {
   "codemirror_mode": {
    "name": "ipython",
    "version": 3
   },
   "file_extension": ".py",
   "mimetype": "text/x-python",
   "name": "python",
   "nbconvert_exporter": "python",
   "pygments_lexer": "ipython3",
   "version": "3.9.13"
  }
 },
 "nbformat": 4,
 "nbformat_minor": 5
}
