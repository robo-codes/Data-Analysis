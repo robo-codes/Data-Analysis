{
 "cells": [
  {
   "cell_type": "markdown",
   "metadata": {},
   "source": [
    "# Coding One Hidden Layer\n",
    "\n",
    "## Exercises\n",
    "\n",
    "To complete these exercises, you will need to refer to the *coding_one_hidden_layer.ipynb* file. It's best if you reproduce any necessary code in a separate cell below as you complete these exercise.\n",
    "\n",
    " 1. Using pencil and paper, draw an appropriate diagram and then perform all the necessary mathematical operations to calculate the output of network given the following information:\n",
    "     - $X = \\left[\\begin{array}{cc} 1 & -6 \\\\\n",
    "     -4 & 2 \\end{array}\\right]$ \n",
    "     - $W^{[1]} = \\left[\\begin{array}{cc} 2 & 1 \\\\\n",
    "     1 & 3 \\end{array}\\right]$\n",
    "     - $b^{[1]} = [3, 4]$\n",
    "     - $W^{[2]} = [3, 1]$\n",
    "     - $b^{[2]} = [2]$\n",
    "     - sigmoid activation function\n",
    "\n",
    "Take a picture of your drawing and insert it here: "
   ]
  },
  {
   "cell_type": "markdown",
   "metadata": {},
   "source": [
    " 2. Use **Method 1** code to double check your calculation from Exercise 1.  \n"
   ]
  },
  {
   "cell_type": "code",
   "execution_count": 1,
   "metadata": {},
   "outputs": [
    {
     "name": "stdout",
     "output_type": "stream",
     "text": [
      "z_N1_L1 =  -1\n",
      "z_N2_L1 =  -13\n"
     ]
    }
   ],
   "source": [
    "x_1 = 1\n",
    "x_2 = -6\n",
    "w1_N1_L1 = 2\n",
    "w2_N1_L1 = 1\n",
    "b_N1_L1 = 3\n",
    "\n",
    "w1_N2_L1 = 1\n",
    "w2_N2_L1 = 3\n",
    "b_N2_L1 = 4\n",
    "\n",
    "z_N1_L1 = w1_N1_L1 * x_1 + w2_N1_L1 * x_2 + b_N1_L1\n",
    "z_N2_L1 = w1_N2_L1 * x_1 + w2_N2_L1 * x_2 + b_N2_L1\n",
    "\n",
    "print(\"z_N1_L1 = \", z_N1_L1)\n",
    "print(\"z_N2_L1 = \", z_N2_L1)"
   ]
  },
  {
   "cell_type": "code",
   "execution_count": 2,
   "metadata": {},
   "outputs": [
    {
     "name": "stdout",
     "output_type": "stream",
     "text": [
      "The output of N1_L1 is:  0.2689414213699951\n",
      "The output of N2_L1 is:  2.2603242979035746e-06\n"
     ]
    }
   ],
   "source": [
    "import numpy as np\n",
    "\n",
    "def sigmoid(z):\n",
    "    a = 1 / (1 + np.exp(-z))\n",
    "    return a\n",
    "\n",
    "a_N1_L1 = sigmoid(z_N1_L1)\n",
    "a_N2_L1 = sigmoid(z_N2_L1)\n",
    "\n",
    "print(\"The output of N1_L1 is: \", a_N1_L1)\n",
    "print(\"The output of N2_L1 is: \", a_N2_L1)"
   ]
  },
  {
   "cell_type": "code",
   "execution_count": 3,
   "metadata": {},
   "outputs": [
    {
     "name": "stdout",
     "output_type": "stream",
     "text": [
      "z_N1_L2 =  2.806826524434283\n",
      "The output of N1_L2 is:  0.9430436037765143\n"
     ]
    }
   ],
   "source": [
    "w1_N1_L2 = 3\n",
    "w2_N1_L2 = 1\n",
    "b_N1_L2 = 2\n",
    "\n",
    "z_N1_L2 = w1_N1_L2 * a_N1_L1 + w2_N1_L2 * a_N2_L1 + b_N1_L2\n",
    "\n",
    "print(\"z_N1_L2 = \", z_N1_L2)\n",
    "\n",
    "a_N1_L2 = sigmoid(z_N1_L2)\n",
    "\n",
    "print(\"The output of N1_L2 is: \", a_N1_L2)"
   ]
  },
  {
   "cell_type": "markdown",
   "metadata": {},
   "source": [
    " 3. Modify the `__init__` function of **Method 3** so it initializes the weights to random numbers between 0 and 1 and the biases to all have the value of 1. (Hint: Use `numpy` functions to do this.) Check that it works by:\n",
    " - creating a network using the data for `X` from Exercise 1\n",
    " - printing out the value of the weights for this network\n",
    " - printing out the value of the biases for this network\n"
   ]
  },
  {
   "cell_type": "code",
   "execution_count": 21,
   "metadata": {},
   "outputs": [],
   "source": [
    "# Inspired by code written by Victor Zhou\n",
    "# License for reuse: https://github.com/vzhou842/neural-network-from-scratch/blob/master/LICENSE\n",
    "\n",
    "import numpy as np # included again here for completeness; normally this should only occur once in your notebook\n",
    "\n",
    "class OurNeuralNetwork:\n",
    "  '''\n",
    "  A neural network with:\n",
    "    - 2 inputs\n",
    "    - a hidden layer with 2 neurons (h1, h2)\n",
    "    - an output layer with 1 neuron (o1)\n",
    "  '''\n",
    "  def __init__(self, input_size, hidden_size, output_size):\n",
    "        # Initialize weights with random values between 0 and 1\n",
    "        self.w1 = np.random.rand(hidden_size, input_size)\n",
    "        self.w2 = np.random.rand(output_size, hidden_size)        \n",
    "        # Initialize biases with all values set to 1\n",
    "        self.b1 = np.ones((hidden_size, 1))\n",
    "        self.b2 = np.ones((output_size, 1))\n",
    "        print(self.w1, self.w2, self.b1, self.b2)\n",
    "  \n",
    "  def activation(self, z):\n",
    "    a = 1 / (1 + np.exp(-z))\n",
    "    return a\n",
    "\n",
    "  def feedforward(self, input):\n",
    "    Z1 = np.dot(self.w1, input.T) + self.b1\n",
    "    A1 = self.activation(Z1)\n",
    "    Z2 = np.dot(self.w2, A1) + self.b2\n",
    "    A2 = self.activation(Z2)\n",
    "\n",
    "    out = A2\n",
    "\n",
    "    return out"
   ]
  },
  {
   "cell_type": "code",
   "execution_count": 22,
   "metadata": {},
   "outputs": [
    {
     "name": "stdout",
     "output_type": "stream",
     "text": [
      "[[0.97359214 0.65950894]\n",
      " [0.74772987 0.58361251]] [[0.17225832 0.61416678]] [[1.]\n",
      " [1.]] [[1.]]\n"
     ]
    }
   ],
   "source": [
    "network = OurNeuralNetwork(2, 2, 1)"
   ]
  },
  {
   "cell_type": "code",
   "execution_count": 23,
   "metadata": {},
   "outputs": [
    {
     "data": {
      "text/plain": [
       "array([[0.85436045, 0.77150752]])"
      ]
     },
     "execution_count": 23,
     "metadata": {},
     "output_type": "execute_result"
    }
   ],
   "source": [
    "x = np.array([[-1, 6], [-4, 2]])\n",
    "\n",
    "network.feedforward(x) "
   ]
  },
  {
   "cell_type": "markdown",
   "metadata": {},
   "source": [
    " 4. Modify **Method 3** so that the `OuNeuralNetwork` will accept input data that has 3 features. \n",
    "     - Use the initialization method from Exercise 3\n",
    "     - Draw a diagram\n",
    "     - Test that it works, that is, produces an output without error, using:\n",
    "     $$ X = \\left[\\begin{array}{ccc} -1 & 3 & 2\\\\\n",
    "     5 & 1 & 4 \\end{array}\\right] $$\n",
    "     - What did you have to modify for this to work?\n"
   ]
  },
  {
   "cell_type": "code",
   "execution_count": 4,
   "metadata": {},
   "outputs": [],
   "source": [
    "# Inspired by code written by Victor Zhou\n",
    "# License for reuse: https://github.com/vzhou842/neural-network-from-scratch/blob/master/LICENSE\n",
    "\n",
    "import numpy as np # included again here for completeness; normally this should only occur once in your notebook\n",
    "\n",
    "class OurNeuralNetwork:\n",
    "  '''\n",
    "  A neural network with:\n",
    "    - 2 inputs\n",
    "    - a hidden layer with 2 neurons (h1, h2)\n",
    "    - an output layer with 1 neuron (o1)\n",
    "  '''\n",
    "  def __init__(self, input_size, hidden_size, output_size):\n",
    "        # Initialize weights with random values between 0 and 1\n",
    "        self.w1 = np.random.rand(hidden_size, input_size)\n",
    "        self.w2 = np.random.rand(output_size, hidden_size)\n",
    "        # Initialize biases with all values set to 1\n",
    "        self.b1 = np.ones((hidden_size, 1))\n",
    "        self.b2 = np.ones((output_size, 1))        \n",
    "        print(self.w1, self.w2, self.b1, self.b2)\n",
    "  \n",
    "  def activation(self, z):\n",
    "    a = 1 / (1 + np.exp(-z))\n",
    "    return a\n",
    "\n",
    "  def feedforward(self, input):\n",
    "    Z1 = np.dot(self.w1, input.T) + self.b1\n",
    "    A1 = self.activation(Z1)\n",
    "    Z2 = np.dot(self.w2, A1) + self.b2\n",
    "    A2 = self.activation(Z2)\n",
    "\n",
    "    out = A2\n",
    "\n",
    "    return out"
   ]
  },
  {
   "cell_type": "code",
   "execution_count": 5,
   "metadata": {},
   "outputs": [
    {
     "name": "stdout",
     "output_type": "stream",
     "text": [
      "[[0.11443096 0.62161502 0.47326306]\n",
      " [0.92647739 0.12997245 0.96366589]] [[0.03770101 0.83925147]] [[1.]\n",
      " [1.]] [[1.]]\n"
     ]
    }
   ],
   "source": [
    "network = OurNeuralNetwork(3, 2, 1)"
   ]
  },
  {
   "cell_type": "code",
   "execution_count": 6,
   "metadata": {},
   "outputs": [
    {
     "data": {
      "text/plain": [
       "array([[0.85883465, 0.86718256]])"
      ]
     },
     "execution_count": 6,
     "metadata": {},
     "output_type": "execute_result"
    }
   ],
   "source": [
    "x = np.array([[-1, 3, 2], [5, 1, 4]])\n",
    "\n",
    "network.feedforward(x) "
   ]
  },
  {
   "cell_type": "markdown",
   "metadata": {},
   "source": [
    " 5. Modify **Method 3** so that the network you created in Exerecise 4 has 3 neurons in hidden layer 1.  \n",
    "     - Use the initialization method from Exercise 3\n",
    "     - Draw a diagram\n",
    "     - Test that it works, that is, produces an output without error, using:\n",
    "     $$ X = \\left[\\begin{array}{ccc} -1 & 3 & 2\\\\\n",
    "     5 & 1 & 4 \\end{array}\\right] $$\n",
    "     - What did you have to modify for this to work?\n"
   ]
  },
  {
   "cell_type": "code",
   "execution_count": 43,
   "metadata": {},
   "outputs": [],
   "source": [
    "# Inspired by code written by Victor Zhou\n",
    "# License for reuse: https://github.com/vzhou842/neural-network-from-scratch/blob/master/LICENSE\n",
    "\n",
    "import numpy as np # included again here for completeness; normally this should only occur once in your notebook\n",
    "\n",
    "class OurNeuralNetwork:\n",
    "  '''\n",
    "  A neural network with:\n",
    "    - 2 inputs\n",
    "    - a hidden layer with 2 neurons (h1, h2)\n",
    "    - an output layer with 1 neuron (o1)\n",
    "  '''\n",
    "  def __init__(self, input_size, hidden_size, output_size):\n",
    "        # Initialize weights with random values between 0 and 1\n",
    "        self.w1 = np.random.rand(hidden_size, input_size)\n",
    "        self.w2 = np.random.rand(self.w1.shape[0], input_size)\n",
    "        self.w3 = np.random.rand(output_size, hidden_size)\n",
    "        # Initialize biases with all values set to 1\n",
    "        self.b1 = np.ones((hidden_size, 1))\n",
    "        self.b2 = np.ones((self.b1.shape[1], 1))\n",
    "        self.b3 = np.ones((output_size, 1))        \n",
    "        print(self.w1, self.w2, self.w3, self.b1, self.b2, self.b3)\n",
    "  \n",
    "  def activation(self, z):\n",
    "    a = 1 / (1 + np.exp(-z))\n",
    "    return a\n",
    "\n",
    "  def feedforward(self, input):\n",
    "    Z1 = np.dot(self.w1, input.T) + self.b1\n",
    "    A1 = self.activation(Z1)\n",
    "    Z2 = np.dot(self.w2, A1) + self.b2\n",
    "    A2 = self.activation(Z2)\n",
    "\n",
    "    out = A2\n",
    "\n",
    "    return out"
   ]
  },
  {
   "cell_type": "code",
   "execution_count": 44,
   "metadata": {},
   "outputs": [
    {
     "name": "stdout",
     "output_type": "stream",
     "text": [
      "[[0.73122037 0.41560074 0.78753129]\n",
      " [0.33204809 0.26515383 0.13407587]] [[0.27602142 0.63959757 0.24332673]\n",
      " [0.2451438  0.44478156 0.49477167]] [[0.32340199 0.69799098]] [[1.]\n",
      " [1.]] [[1.]] [[1.]]\n"
     ]
    }
   ],
   "source": [
    "network = OurNeuralNetwork(3, 2, 1)"
   ]
  },
  {
   "cell_type": "code",
   "execution_count": 33,
   "metadata": {},
   "outputs": [
    {
     "ename": "ValueError",
     "evalue": "shapes (2,3) and (2,2) not aligned: 3 (dim 1) != 2 (dim 0)",
     "output_type": "error",
     "traceback": [
      "\u001b[1;31m---------------------------------------------------------------------------\u001b[0m",
      "\u001b[1;31mValueError\u001b[0m                                Traceback (most recent call last)",
      "\u001b[1;32m~\\AppData\\Local\\Temp\\ipykernel_12124\\2871899553.py\u001b[0m in \u001b[0;36m<module>\u001b[1;34m\u001b[0m\n\u001b[0;32m      1\u001b[0m \u001b[0mx\u001b[0m \u001b[1;33m=\u001b[0m \u001b[0mnp\u001b[0m\u001b[1;33m.\u001b[0m\u001b[0marray\u001b[0m\u001b[1;33m(\u001b[0m\u001b[1;33m[\u001b[0m\u001b[1;33m[\u001b[0m\u001b[1;33m-\u001b[0m\u001b[1;36m1\u001b[0m\u001b[1;33m,\u001b[0m \u001b[1;36m3\u001b[0m\u001b[1;33m,\u001b[0m \u001b[1;36m2\u001b[0m\u001b[1;33m]\u001b[0m\u001b[1;33m,\u001b[0m \u001b[1;33m[\u001b[0m\u001b[1;36m5\u001b[0m\u001b[1;33m,\u001b[0m \u001b[1;36m1\u001b[0m\u001b[1;33m,\u001b[0m \u001b[1;36m4\u001b[0m\u001b[1;33m]\u001b[0m\u001b[1;33m]\u001b[0m\u001b[1;33m)\u001b[0m\u001b[1;33m\u001b[0m\u001b[1;33m\u001b[0m\u001b[0m\n\u001b[0;32m      2\u001b[0m \u001b[1;33m\u001b[0m\u001b[0m\n\u001b[1;32m----> 3\u001b[1;33m \u001b[0mnetwork\u001b[0m\u001b[1;33m.\u001b[0m\u001b[0mfeedforward\u001b[0m\u001b[1;33m(\u001b[0m\u001b[0mx\u001b[0m\u001b[1;33m)\u001b[0m\u001b[1;33m\u001b[0m\u001b[1;33m\u001b[0m\u001b[0m\n\u001b[0m",
      "\u001b[1;32m~\\AppData\\Local\\Temp\\ipykernel_12124\\3348869666.py\u001b[0m in \u001b[0;36mfeedforward\u001b[1;34m(self, input)\u001b[0m\n\u001b[0;32m     29\u001b[0m     \u001b[0mZ1\u001b[0m \u001b[1;33m=\u001b[0m \u001b[0mnp\u001b[0m\u001b[1;33m.\u001b[0m\u001b[0mdot\u001b[0m\u001b[1;33m(\u001b[0m\u001b[0mself\u001b[0m\u001b[1;33m.\u001b[0m\u001b[0mw1\u001b[0m\u001b[1;33m,\u001b[0m \u001b[0minput\u001b[0m\u001b[1;33m.\u001b[0m\u001b[0mT\u001b[0m\u001b[1;33m)\u001b[0m \u001b[1;33m+\u001b[0m \u001b[0mself\u001b[0m\u001b[1;33m.\u001b[0m\u001b[0mb1\u001b[0m\u001b[1;33m\u001b[0m\u001b[1;33m\u001b[0m\u001b[0m\n\u001b[0;32m     30\u001b[0m     \u001b[0mA1\u001b[0m \u001b[1;33m=\u001b[0m \u001b[0mself\u001b[0m\u001b[1;33m.\u001b[0m\u001b[0mactivation\u001b[0m\u001b[1;33m(\u001b[0m\u001b[0mZ1\u001b[0m\u001b[1;33m)\u001b[0m\u001b[1;33m\u001b[0m\u001b[1;33m\u001b[0m\u001b[0m\n\u001b[1;32m---> 31\u001b[1;33m     \u001b[0mZ2\u001b[0m \u001b[1;33m=\u001b[0m \u001b[0mnp\u001b[0m\u001b[1;33m.\u001b[0m\u001b[0mdot\u001b[0m\u001b[1;33m(\u001b[0m\u001b[0mself\u001b[0m\u001b[1;33m.\u001b[0m\u001b[0mw2\u001b[0m\u001b[1;33m,\u001b[0m \u001b[0mA1\u001b[0m\u001b[1;33m)\u001b[0m \u001b[1;33m+\u001b[0m \u001b[0mself\u001b[0m\u001b[1;33m.\u001b[0m\u001b[0mb2\u001b[0m\u001b[1;33m\u001b[0m\u001b[1;33m\u001b[0m\u001b[0m\n\u001b[0m\u001b[0;32m     32\u001b[0m     \u001b[0mA2\u001b[0m \u001b[1;33m=\u001b[0m \u001b[0mself\u001b[0m\u001b[1;33m.\u001b[0m\u001b[0mactivation\u001b[0m\u001b[1;33m(\u001b[0m\u001b[0mZ2\u001b[0m\u001b[1;33m)\u001b[0m\u001b[1;33m\u001b[0m\u001b[1;33m\u001b[0m\u001b[0m\n\u001b[0;32m     33\u001b[0m \u001b[1;33m\u001b[0m\u001b[0m\n",
      "\u001b[1;32m~\\anaconda3\\lib\\site-packages\\numpy\\core\\overrides.py\u001b[0m in \u001b[0;36mdot\u001b[1;34m(*args, **kwargs)\u001b[0m\n",
      "\u001b[1;31mValueError\u001b[0m: shapes (2,3) and (2,2) not aligned: 3 (dim 1) != 2 (dim 0)"
     ]
    }
   ],
   "source": [
    "x = np.array([[-1, 3, 2], [5, 1, 4]])\n",
    "\n",
    "network.feedforward(x) "
   ]
  },
  {
   "cell_type": "markdown",
   "metadata": {},
   "source": [
    " 6. Modify **Method 3** so that your network will accept input data with any number of features and the hidden layer (layer 1) will contain the number of neurons specified by the user. Hint: it might help if creating this class took 2 parameters, as in `OurNeuralNetwork(number_of_features, number_of_neurons_in_hidden_layer)`.    \n",
    "     - Use the initialization method from Exercise 3\n",
    "     - Draw a diagram\n",
    "     - Test that it works using input that has different number of features and choosing different numbers of neurons for layer 1\n",
    "     - What did you have to modify for this to work?"
   ]
  },
  {
   "cell_type": "code",
   "execution_count": 37,
   "metadata": {},
   "outputs": [],
   "source": [
    "# Inspired by code written by Victor Zhou\n",
    "# License for reuse: https://github.com/vzhou842/neural-network-from-scratch/blob/master/LICENSE\n",
    "\n",
    "import numpy as np # included again here for completeness; normally this should only occur once in your notebook\n",
    "\n",
    "class OurNeuralNetwork:\n",
    "  '''\n",
    "  A neural network with:\n",
    "    - 2 inputs\n",
    "    - a hidden layer with 2 neurons (h1, h2)\n",
    "    - an output layer with 1 neuron (o1)\n",
    "  '''\n",
    "  def __init__(self, input_size, number_of_neurons, output_size):\n",
    "        # Initialize weights with random values between 0 and 1\n",
    "        self.w = [np.random.rand(number_of_neurons, input_size)]\n",
    "        self.wl = np.random.rand(output_size, number_of_neurons)\n",
    "        \n",
    "        # Initialize biases with all values set to 1\n",
    "        self.b1 = np.ones((number_of_neurons, 1))\n",
    "        self.b2 = np.ones((output_size, 1))        \n",
    "        print(self.w, self.wl, self.b1, self.b2)\n",
    "  \n",
    "  def activation(self, z):\n",
    "    a = 1 / (1 + np.exp(-z))\n",
    "    return a\n",
    "\n",
    "  def feedforward(self, input):\n",
    "    Z1 = np.dot(self.w, input.T) + self.b1\n",
    "    A1 = self.activation(Z1)\n",
    "    Z2 = np.dot(self.wl, A1) + self.b2\n",
    "    A2 = self.activation(Z2)\n",
    "\n",
    "    out = A2\n",
    "\n",
    "    return out"
   ]
  },
  {
   "cell_type": "code",
   "execution_count": 41,
   "metadata": {},
   "outputs": [
    {
     "name": "stdout",
     "output_type": "stream",
     "text": [
      "[array([[0.0022048 , 0.67552028, 0.6460005 ],\n",
      "       [0.31934908, 0.86474987, 0.41507844],\n",
      "       [0.18136551, 0.10578597, 0.58174061],\n",
      "       [0.26357737, 0.0517417 , 0.84406057]])] [[0.7105497  0.88317061 0.67496243 0.79559625]] [[1.]\n",
      " [1.]\n",
      " [1.]\n",
      " [1.]] [[1.]]\n"
     ]
    }
   ],
   "source": [
    "network = OurNeuralNetwork(3, 4, 1)"
   ]
  },
  {
   "cell_type": "code",
   "execution_count": 42,
   "metadata": {},
   "outputs": [
    {
     "data": {
      "text/plain": [
       "array([[[0.98060221, 0.98267325]]])"
      ]
     },
     "execution_count": 42,
     "metadata": {},
     "output_type": "execute_result"
    }
   ],
   "source": [
    "x = np.array([[-1, 3, 2], [5, 1, 4]])\n",
    "\n",
    "network.feedforward(x) "
   ]
  }
 ],
 "metadata": {
  "colab": {
   "collapsed_sections": [],
   "name": "Single_neuron.ipynb",
   "provenance": []
  },
  "kernelspec": {
   "display_name": "Python 3 (ipykernel)",
   "language": "python",
   "name": "python3"
  },
  "language_info": {
   "codemirror_mode": {
    "name": "ipython",
    "version": 3
   },
   "file_extension": ".py",
   "mimetype": "text/x-python",
   "name": "python",
   "nbconvert_exporter": "python",
   "pygments_lexer": "ipython3",
   "version": "3.9.13"
  }
 },
 "nbformat": 4,
 "nbformat_minor": 4
}
