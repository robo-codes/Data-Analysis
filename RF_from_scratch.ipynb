{
 "cells": [
  {
   "cell_type": "markdown",
   "id": "b908c601",
   "metadata": {},
   "source": [
    "# Practice Lab 3: Random Forest from scratch (we really hope!)"
   ]
  },
  {
   "cell_type": "markdown",
   "id": "81871635",
   "metadata": {},
   "source": [
    "## Data Creation "
   ]
  },
  {
   "cell_type": "code",
   "execution_count": 2,
   "id": "d881de34",
   "metadata": {},
   "outputs": [],
   "source": [
    "from numpy.random import default_rng\n",
    "import random\n",
    "import numpy as np\n",
    "import matplotlib.pyplot as plt\n",
    "from sklearn.tree import DecisionTreeRegressor"
   ]
  },
  {
   "cell_type": "code",
   "execution_count": 46,
   "id": "ab1a5113",
   "metadata": {},
   "outputs": [
    {
     "data": {
      "text/plain": [
       "array([[ 53, 580, 675, 526, 783, 864],\n",
       "       [417, 734, 886, 476, 703, 816],\n",
       "       [680, 544, 790, 437, 782,   8],\n",
       "       [630, 678, 548, 786,  23, 705],\n",
       "       [145, 962, 663, 721, 646,  11],\n",
       "       [517, 927, 170, 822, 474, 681],\n",
       "       [249, 733, 586,  68, 795,  18],\n",
       "       [305, 537,  93, 901, 406, 721],\n",
       "       [824, 895, 305, 293, 698, 469],\n",
       "       [950, 286, 691, 548, 578, 863]], dtype=int64)"
      ]
     },
     "execution_count": 46,
     "metadata": {},
     "output_type": "execute_result"
    }
   ],
   "source": [
    "seed = 123\n",
    "rng = default_rng(seed = 69)\n",
    "\n",
    "X = rng.integers(0, 1000, size = (10, 6))\n",
    "X"
   ]
  },
  {
   "cell_type": "markdown",
   "id": "762b1a79",
   "metadata": {},
   "source": [
    "## Create Bootstrap Samples (Physical)"
   ]
  },
  {
   "cell_type": "code",
   "execution_count": null,
   "id": "ebcabb94",
   "metadata": {},
   "outputs": [],
   "source": [
    "brb\n",
    "gbb\n",
    "gbr\n",
    "rrb\n",
    "brg"
   ]
  },
  {
   "cell_type": "markdown",
   "id": "b852bda5",
   "metadata": {},
   "source": [
    "## Create Bootstrap Samples (Code)"
   ]
  },
  {
   "cell_type": "code",
   "execution_count": 55,
   "id": "5e69af9a",
   "metadata": {},
   "outputs": [
    {
     "data": {
      "text/plain": [
       "array([[824, 895, 305, 293, 698, 469],\n",
       "       [305, 537,  93, 901, 406, 721],\n",
       "       [630, 678, 548, 786,  23, 705],\n",
       "       [680, 544, 790, 437, 782,   8],\n",
       "       [680, 544, 790, 437, 782,   8],\n",
       "       [517, 927, 170, 822, 474, 681],\n",
       "       [305, 537,  93, 901, 406, 721],\n",
       "       [950, 286, 691, 548, 578, 863],\n",
       "       [ 53, 580, 675, 526, 783, 864],\n",
       "       [517, 927, 170, 822, 474, 681]], dtype=int64)"
      ]
     },
     "execution_count": 55,
     "metadata": {},
     "output_type": "execute_result"
    }
   ],
   "source": [
    "bs = rng.choice(X, size = X.shape[0], replace = True)\n",
    "bs\n",
    "\n",
    "#random_numbers = [random.randint(0, 9) for _ in range(10)]\n",
    "\n",
    "#print(random_numbers)"
   ]
  },
  {
   "cell_type": "code",
   "execution_count": 56,
   "id": "1e3ce652",
   "metadata": {},
   "outputs": [
    {
     "data": {
      "text/plain": [
       "7"
      ]
     },
     "execution_count": 56,
     "metadata": {},
     "output_type": "execute_result"
    }
   ],
   "source": [
    "np.unique(bs, axis = 0).shape[0]"
   ]
  },
  {
   "cell_type": "markdown",
   "id": "9f951907",
   "metadata": {},
   "source": [
    "## Average Number of Out-of-Bag Samples"
   ]
  },
  {
   "cell_type": "code",
   "execution_count": 59,
   "id": "f5c65f72",
   "metadata": {},
   "outputs": [
    {
     "name": "stdout",
     "output_type": "stream",
     "text": [
      "8 80.0 20.0 [40.0, 40.0, 30.0, 10.0, 30.0, 30.0, 40.0, 20.0, 40.0, 40.0, 30.0, 40.0, 30.0, 30.0, 50.0, 40.0, 30.0, 30.0, 50.0, 30.0, 50.0, 30.0, 40.0, 40.0, 30.0, 50.0, 40.0, 40.0, 40.0, 40.0, 30.0, 40.0, 50.0, 40.0, 30.0, 50.0, 30.0, 50.0, 40.0, 40.0, 40.0, 40.0, 40.0, 30.0, 40.0, 40.0, 30.0, 40.0, 30.0, 50.0, 40.0, 50.0, 30.0, 30.0, 30.0, 30.0, 20.0, 50.0, 40.0, 40.0, 20.0, 50.0, 50.0, 30.0, 40.0, 40.0, 40.0, 50.0, 20.0, 30.0, 30.0, 40.0, 30.0, 40.0, 50.0, 50.0, 40.0, 40.0, 20.0, 40.0, 30.0, 50.0, 40.0, 50.0, 50.0, 50.0, 40.0, 50.0, 40.0, 30.0, 40.0, 20.0, 50.0, 20.0, 30.0, 40.0, 30.0, 40.0, 20.0, 30.0, 20.0]\n"
     ]
    },
    {
     "data": {
      "text/plain": [
       "37.02970297029703"
      ]
     },
     "execution_count": 59,
     "metadata": {},
     "output_type": "execute_result"
    }
   ],
   "source": [
    "oob_samples = []\n",
    "\n",
    "for i in range(0, 101):\n",
    "    # create bootstrap sample\n",
    "    bs = rng.choice(X, size = X.shape[0], replace = True)\n",
    "    \n",
    "    # find out how many unique rows\n",
    "    u = np.unique(bs, axis = 0).shape[0]\n",
    "    \n",
    "    # what is that as pct of total rows\n",
    "    pct = 100 * u / X.shape[0]\n",
    "    oob_pct = 100 - pct\n",
    "    \n",
    "    # add pct to a list\n",
    "    oob_samples.append(oob_pct)\n",
    "    \n",
    "# find avg of pct's in list\n",
    "print(u,pct,oob_pct,oob_samples)\n",
    "np.mean(oob_samples)\n"
   ]
  },
  {
   "cell_type": "code",
   "execution_count": 122,
   "id": "5c6074af",
   "metadata": {},
   "outputs": [
    {
     "data": {
      "text/plain": [
       "<matplotlib.collections.PathCollection at 0x2424ecb1cd0>"
      ]
     },
     "execution_count": 122,
     "metadata": {},
     "output_type": "execute_result"
    },
    {
     "data": {
      "image/png": "[encoded data removed]",
      "text/plain": [
       "<Figure size 640x480 with 1 Axes>"
      ]
     },
     "metadata": {},
     "output_type": "display_data"
    }
   ],
   "source": [
    "plt.scatter(range(0,101), oob_samples)"
   ]
  },
  {
   "cell_type": "markdown",
   "id": "49c7bb11",
   "metadata": {},
   "source": [
    "## Create a Function to Produce a Bootstrap Sample and Corresponding OOB Samples"
   ]
  },
  {
   "cell_type": "code",
   "execution_count": 60,
   "id": "6437dd5b",
   "metadata": {},
   "outputs": [],
   "source": [
    "#def bs(m):\n",
    "oob_samples = []\n",
    "\n",
    "def make_bs(X):\n",
    "    # create bootstrap sample\n",
    "    bss = rng.choice(X, size = X.shape[0], replace = True)\n",
    "\n",
    "    # find out how many unique rows\n",
    "    u = np.unique(bss, axis = 0)\n",
    "\n",
    "    # for each row in X find out if it is in the bs sample\n",
    "    for row in X:\n",
    "        if np.isin(row, bss.shape[0]).sum()!=6:\n",
    "            oob_samples.append(row)\n",
    "        #print(row)\n",
    "        #print(np.isin(row, bs))\n",
    "        #break\n",
    "    return bs, oob_samples"
   ]
  },
  {
   "cell_type": "code",
   "execution_count": 64,
   "id": "cafa01a0",
   "metadata": {},
   "outputs": [
    {
     "data": {
      "text/plain": [
       "(array([[950, 286, 691, 548, 578, 863],\n",
       "        [145, 962, 663, 721, 646,  11],\n",
       "        [824, 895, 305, 293, 698, 469],\n",
       "        [517, 927, 170, 822, 474, 681],\n",
       "        [249, 733, 586,  68, 795,  18],\n",
       "        [ 53, 580, 675, 526, 783, 864],\n",
       "        [824, 895, 305, 293, 698, 469],\n",
       "        [417, 734, 886, 476, 703, 816],\n",
       "        [145, 962, 663, 721, 646,  11],\n",
       "        [305, 537,  93, 901, 406, 721]], dtype=int64),\n",
       " [array([ 53, 580, 675, 526, 783, 864], dtype=int64),\n",
       "  array([417, 734, 886, 476, 703, 816], dtype=int64),\n",
       "  array([680, 544, 790, 437, 782,   8], dtype=int64),\n",
       "  array([630, 678, 548, 786,  23, 705], dtype=int64),\n",
       "  array([145, 962, 663, 721, 646,  11], dtype=int64),\n",
       "  array([517, 927, 170, 822, 474, 681], dtype=int64),\n",
       "  array([249, 733, 586,  68, 795,  18], dtype=int64),\n",
       "  array([305, 537,  93, 901, 406, 721], dtype=int64),\n",
       "  array([824, 895, 305, 293, 698, 469], dtype=int64),\n",
       "  array([950, 286, 691, 548, 578, 863], dtype=int64),\n",
       "  array([ 53, 580, 675, 526, 783, 864], dtype=int64),\n",
       "  array([417, 734, 886, 476, 703, 816], dtype=int64),\n",
       "  array([680, 544, 790, 437, 782,   8], dtype=int64),\n",
       "  array([630, 678, 548, 786,  23, 705], dtype=int64),\n",
       "  array([145, 962, 663, 721, 646,  11], dtype=int64),\n",
       "  array([517, 927, 170, 822, 474, 681], dtype=int64),\n",
       "  array([249, 733, 586,  68, 795,  18], dtype=int64),\n",
       "  array([305, 537,  93, 901, 406, 721], dtype=int64),\n",
       "  array([824, 895, 305, 293, 698, 469], dtype=int64),\n",
       "  array([950, 286, 691, 548, 578, 863], dtype=int64),\n",
       "  array([ 53, 580, 675, 526, 783, 864], dtype=int64),\n",
       "  array([417, 734, 886, 476, 703, 816], dtype=int64),\n",
       "  array([680, 544, 790, 437, 782,   8], dtype=int64),\n",
       "  array([630, 678, 548, 786,  23, 705], dtype=int64),\n",
       "  array([145, 962, 663, 721, 646,  11], dtype=int64),\n",
       "  array([517, 927, 170, 822, 474, 681], dtype=int64),\n",
       "  array([249, 733, 586,  68, 795,  18], dtype=int64),\n",
       "  array([305, 537,  93, 901, 406, 721], dtype=int64),\n",
       "  array([824, 895, 305, 293, 698, 469], dtype=int64),\n",
       "  array([950, 286, 691, 548, 578, 863], dtype=int64),\n",
       "  array([ 53, 580, 675, 526, 783, 864], dtype=int64),\n",
       "  array([417, 734, 886, 476, 703, 816], dtype=int64),\n",
       "  array([680, 544, 790, 437, 782,   8], dtype=int64),\n",
       "  array([630, 678, 548, 786,  23, 705], dtype=int64),\n",
       "  array([145, 962, 663, 721, 646,  11], dtype=int64),\n",
       "  array([517, 927, 170, 822, 474, 681], dtype=int64),\n",
       "  array([249, 733, 586,  68, 795,  18], dtype=int64),\n",
       "  array([305, 537,  93, 901, 406, 721], dtype=int64),\n",
       "  array([824, 895, 305, 293, 698, 469], dtype=int64),\n",
       "  array([950, 286, 691, 548, 578, 863], dtype=int64),\n",
       "  array([ 53, 580, 675, 526, 783, 864], dtype=int64),\n",
       "  array([417, 734, 886, 476, 703, 816], dtype=int64),\n",
       "  array([680, 544, 790, 437, 782,   8], dtype=int64),\n",
       "  array([630, 678, 548, 786,  23, 705], dtype=int64),\n",
       "  array([145, 962, 663, 721, 646,  11], dtype=int64),\n",
       "  array([517, 927, 170, 822, 474, 681], dtype=int64),\n",
       "  array([249, 733, 586,  68, 795,  18], dtype=int64),\n",
       "  array([305, 537,  93, 901, 406, 721], dtype=int64),\n",
       "  array([824, 895, 305, 293, 698, 469], dtype=int64),\n",
       "  array([950, 286, 691, 548, 578, 863], dtype=int64)])"
      ]
     },
     "execution_count": 64,
     "metadata": {},
     "output_type": "execute_result"
    }
   ],
   "source": [
    "bs, oob = make_bs(X)\n",
    "make_bs(X)"
   ]
  },
  {
   "cell_type": "markdown",
   "id": "27fc7584",
   "metadata": {},
   "source": [
    "## Create a Function to Produce a Decision Tree from a Data Sample"
   ]
  },
  {
   "cell_type": "code",
   "execution_count": 71,
   "id": "7ddf31c9",
   "metadata": {},
   "outputs": [],
   "source": [
    "# assume regression problem\n",
    "# y = data[:, -1]\n",
    "\n",
    "def dT(data):\n",
    "    bs, oob = make_bs(data)\n",
    "    dt = DecisionTreeRegressor()\n",
    "    \n",
    "    X = bs[:, 0:-1]\n",
    "    y = bs[:, -1]\n",
    "    dt.fit(X, y)\n",
    "    return dt   "
   ]
  },
  {
   "cell_type": "code",
   "execution_count": 72,
   "id": "4b857428",
   "metadata": {},
   "outputs": [
    {
     "data": {
      "text/plain": [
       "DecisionTreeRegressor()"
      ]
     },
     "execution_count": 72,
     "metadata": {},
     "output_type": "execute_result"
    }
   ],
   "source": [
    "data = X\n",
    "dt = dT(data)\n",
    "dt"
   ]
  },
  {
   "cell_type": "markdown",
   "id": "bb9bdbd3",
   "metadata": {},
   "source": [
    "## Make Predictions using the Decision Tree "
   ]
  },
  {
   "cell_type": "code",
   "execution_count": null,
   "id": "132e52c0",
   "metadata": {},
   "outputs": [],
   "source": []
  },
  {
   "cell_type": "markdown",
   "id": "9f9a21c8",
   "metadata": {},
   "source": [
    "## Select a Random Subset of Features/Columns from a Data Sample"
   ]
  },
  {
   "cell_type": "code",
   "execution_count": 76,
   "id": "4cc45b7a",
   "metadata": {},
   "outputs": [],
   "source": [
    "# assume regression problem\n",
    "# y = data[:, -1]\n",
    "\n",
    "def dT(data):\n",
    "    bs, oob = make_bs(data)\n",
    "    dt = DecisionTreeRegressor()\n",
    "    \n",
    "    my_cols = rng.choice(range(0, data.shape[1]-1), 2, replace = False)\n",
    "    X = bs[:, my_cols]\n",
    "    y = bs[:, -1]\n",
    "    dt.fit(X, y)\n",
    "    return dt   "
   ]
  },
  {
   "cell_type": "code",
   "execution_count": 77,
   "id": "567ae7d4",
   "metadata": {},
   "outputs": [],
   "source": [
    "dt_new = dT(data)"
   ]
  },
  {
   "cell_type": "code",
   "execution_count": 78,
   "id": "7b7455d5",
   "metadata": {},
   "outputs": [
    {
     "data": {
      "text/plain": [
       "array([721.])"
      ]
     },
     "execution_count": 78,
     "metadata": {},
     "output_type": "execute_result"
    }
   ],
   "source": [
    "dt_new.predict([[101,23]])"
   ]
  },
  {
   "cell_type": "code",
   "execution_count": 79,
   "id": "6f3aa691",
   "metadata": {},
   "outputs": [],
   "source": [
    "feature_idx = [0,1,2,3,4]"
   ]
  },
  {
   "cell_type": "code",
   "execution_count": 81,
   "id": "5a52f766",
   "metadata": {},
   "outputs": [
    {
     "data": {
      "text/plain": [
       "array([[526,  53],\n",
       "       [476, 417],\n",
       "       [437, 680],\n",
       "       [786, 630],\n",
       "       [721, 145],\n",
       "       [822, 517],\n",
       "       [ 68, 249],\n",
       "       [901, 305],\n",
       "       [293, 824],\n",
       "       [548, 950]], dtype=int64)"
      ]
     },
     "execution_count": 81,
     "metadata": {},
     "output_type": "execute_result"
    }
   ],
   "source": [
    "my_cols = rng.choice(feature_idx, 2, replace = False)\n",
    "X[:, my_cols]"
   ]
  },
  {
   "cell_type": "markdown",
   "id": "cdf36094",
   "metadata": {},
   "source": [
    "## Put it All Together"
   ]
  },
  {
   "cell_type": "code",
   "execution_count": null,
   "id": "5aa1029f",
   "metadata": {},
   "outputs": [],
   "source": []
  }
 ],
 "metadata": {
  "kernelspec": {
   "display_name": "Python 3 (ipykernel)",
   "language": "python",
   "name": "python3"
  },
  "language_info": {
   "codemirror_mode": {
    "name": "ipython",
    "version": 3
   },
   "file_extension": ".py",
   "mimetype": "text/x-python",
   "name": "python",
   "nbconvert_exporter": "python",
   "pygments_lexer": "ipython3",
   "version": "3.9.13"
  }
 },
 "nbformat": 4,
 "nbformat_minor": 5
}
