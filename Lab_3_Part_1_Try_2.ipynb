{
 "cells": [
  {
   "cell_type": "markdown",
   "id": "TR2CPIZ9tNDE",
   "metadata": {
    "id": "TR2CPIZ9tNDE"
   },
   "source": [
    "# Lab 3 Part 1: Convolutions in Keras\n",
    "The code below will allow you to play with a single convolutional layer in Keras. Take a look at the documentation for the Conv2D layer, which is also where the original code came from."
   ]
  },
  {
   "cell_type": "code",
   "execution_count": 1,
   "id": "wO83RrBkuB0F",
   "metadata": {
    "id": "wO83RrBkuB0F"
   },
   "outputs": [],
   "source": [
    "import tensorflow as tf\n",
    "from tensorflow.keras.layers import Conv2D"
   ]
  },
  {
   "cell_type": "code",
   "execution_count": 2,
   "id": "VyXPGKnPuKWc",
   "metadata": {
    "colab": {
     "base_uri": "https://localhost:8080/"
    },
    "id": "VyXPGKnPuKWc",
    "outputId": "808dffa9-9624-4e71-b069-4571ace42d91"
   },
   "outputs": [
    {
     "data": {
      "text/plain": [
       "TensorShape([4, 26, 26, 2])"
      ]
     },
     "execution_count": 2,
     "metadata": {},
     "output_type": "execute_result"
    }
   ],
   "source": [
    "input_shape = (4, 28, 28, 3)\n",
    "\n",
    "x = tf.random.normal(input_shape)\n",
    "\n",
    "y = Conv2D(filters=2,\n",
    "           kernel_size=(3, 3),\n",
    "           strides=1,\n",
    "           padding='valid',\n",
    "           input_shape=(None, 28, 28, 3))(x)\n",
    "y.shape"
   ]
  },
  {
   "cell_type": "markdown",
   "id": "K1ciM03Ct9A2",
   "metadata": {
    "id": "K1ciM03Ct9A2"
   },
   "source": [
    "Here is a brief explanation of the above code:\n",
    "\n",
    "<img src=\"Convolution_notebook-2.jpeg\" width=\"600\" style=\"transform: rotate(90);\">"
   ]
  },
  {
   "cell_type": "markdown",
   "id": "JMlk6aIouaIF",
   "metadata": {
    "id": "JMlk6aIouaIF"
   },
   "source": [
    "# Exercises\n",
    "In the code above, make changes to:\n",
    "\n",
    "- input  ℎ\n",
    "- input  𝑤\n",
    "- input  𝑛𝑐\n",
    "- number of filters\n",
    "- kernel size (same as filter size)\n",
    "\n",
    "For each change, calculate the dimensions of the output (y.shape) by hand, including drawing a diagram (as shown below).\n",
    "\n"
   ]
  },
  {
   "cell_type": "code",
   "execution_count": 3,
   "id": "722a5e62",
   "metadata": {},
   "outputs": [
    {
     "data": {
      "text/plain": [
       "TensorShape([4, 33, 33, 4])"
      ]
     },
     "execution_count": 3,
     "metadata": {},
     "output_type": "execute_result"
    }
   ],
   "source": [
    "input_shape = (4, 36, 36, 2)\n",
    "\n",
    "x = tf.random.normal(input_shape)\n",
    "\n",
    "y = Conv2D(filters=4,\n",
    "           kernel_size=(4, 4),\n",
    "           strides=1,\n",
    "           padding='valid',\n",
    "           input_shape=(None, 36, 36, 2))(x)\n",
    "y.shape\n"
   ]
  },
  {
   "cell_type": "markdown",
   "id": "b5aa8edd",
   "metadata": {},
   "source": [
    "<img src=\"Ml lab 3 submission image.jpeg\" width=600 align=\"center\">"
   ]
  },
  {
   "cell_type": "markdown",
   "id": "dac958f2",
   "metadata": {
    "id": "dac958f2"
   },
   "source": [
    "## MNIST Revisited\n",
    "\n",
    "Let's now revisit our MNIST. Knowing that the data contains 2-dimensional images of handwritten digits, we should be able to apply what we've learned about convolutions. Thus, in this section, we will create a convolutional neural network (CNN or convnet) for this data set."
   ]
  },
  {
   "cell_type": "code",
   "execution_count": 4,
   "id": "12e2399a",
   "metadata": {
    "id": "12e2399a"
   },
   "outputs": [],
   "source": [
    "from tensorflow.keras.datasets import mnist\n",
    "import numpy as np\n",
    "\n",
    "(train_data, train_labels), (test_data, test_labels) = mnist.load_data()"
   ]
  },
  {
   "cell_type": "code",
   "execution_count": 5,
   "id": "a07d1bca",
   "metadata": {
    "id": "a07d1bca"
   },
   "outputs": [
    {
     "data": {
      "text/plain": [
       "(28, 28)"
      ]
     },
     "execution_count": 5,
     "metadata": {},
     "output_type": "execute_result"
    }
   ],
   "source": [
    "train_data[0].shape"
   ]
  },
  {
   "cell_type": "code",
   "execution_count": 6,
   "id": "fd87f235",
   "metadata": {
    "id": "fd87f235"
   },
   "outputs": [
    {
     "data": {
      "text/plain": [
       "array([5, 0, 4, 1, 9, 2, 1, 3, 1, 4], dtype=uint8)"
      ]
     },
     "execution_count": 6,
     "metadata": {},
     "output_type": "execute_result"
    }
   ],
   "source": [
    "train_labels[:10]"
   ]
  },
  {
   "cell_type": "markdown",
   "id": "0933573f",
   "metadata": {
    "id": "0933573f"
   },
   "source": [
    "This time we are going to use a **validation set** to monitor our training progress. We can also use this validation set for *hyperparameter tuning*. Remember, using the validation set allows us to keep the *test set* to gauge how well our final model should do in the real world; that is, the final model only sees the test data once."
   ]
  },
  {
   "cell_type": "code",
   "execution_count": 1,
   "id": "c20c7956",
   "metadata": {
    "id": "c20c7956"
   },
   "outputs": [
    {
     "ename": "NameError",
     "evalue": "name 'train_data' is not defined",
     "output_type": "error",
     "traceback": [
      "\u001b[1;31m---------------------------------------------------------------------------\u001b[0m",
      "\u001b[1;31mNameError\u001b[0m                                 Traceback (most recent call last)",
      "\u001b[1;32m~\\AppData\\Local\\Temp\\ipykernel_12488\\1274703563.py\u001b[0m in \u001b[0;36m<module>\u001b[1;34m\u001b[0m\n\u001b[0;32m      1\u001b[0m \u001b[1;31m# Use the first 10,000 samples of our training data as our validation set\u001b[0m\u001b[1;33m\u001b[0m\u001b[1;33m\u001b[0m\u001b[0m\n\u001b[1;32m----> 2\u001b[1;33m \u001b[0mval_data\u001b[0m \u001b[1;33m=\u001b[0m \u001b[0mtrain_data\u001b[0m\u001b[1;33m[\u001b[0m\u001b[1;33m:\u001b[0m\u001b[1;36m10000\u001b[0m\u001b[1;33m]\u001b[0m\u001b[1;33m\u001b[0m\u001b[1;33m\u001b[0m\u001b[0m\n\u001b[0m\u001b[0;32m      3\u001b[0m \u001b[0mval_labels\u001b[0m \u001b[1;33m=\u001b[0m \u001b[0mtrain_labels\u001b[0m\u001b[1;33m[\u001b[0m\u001b[1;33m:\u001b[0m\u001b[1;36m10000\u001b[0m\u001b[1;33m]\u001b[0m\u001b[1;33m\u001b[0m\u001b[1;33m\u001b[0m\u001b[0m\n\u001b[0;32m      4\u001b[0m \u001b[1;33m\u001b[0m\u001b[0m\n\u001b[0;32m      5\u001b[0m \u001b[1;31m# Use the remainder of the original training data for actual training\u001b[0m\u001b[1;33m\u001b[0m\u001b[1;33m\u001b[0m\u001b[0m\n",
      "\u001b[1;31mNameError\u001b[0m: name 'train_data' is not defined"
     ]
    }
   ],
   "source": [
    "# Use the first 10,000 samples of our training data as our validation set\n",
    "val_data = train_data[:10000]\n",
    "val_labels = train_labels[:10000]\n",
    "\n",
    "# Use the remainder of the original training data for actual training\n",
    "partial_train_data = train_data[10000:]\n",
    "partial_train_labels = train_labels[10000:]"
   ]
  },
  {
   "cell_type": "code",
   "execution_count": 8,
   "id": "cd053ac2",
   "metadata": {
    "id": "cd053ac2"
   },
   "outputs": [],
   "source": [
    "# Scale the pixel values so they lie in the range of 0-1\n",
    "partial_train_data = partial_train_data / 255.\n",
    "val_data = val_data / 255.\n",
    "\n",
    "test_data = test_data /255."
   ]
  },
  {
   "cell_type": "markdown",
   "id": "7205cd6d",
   "metadata": {
    "id": "7205cd6d"
   },
   "source": [
    "Note that our data currently has 3 dimensions: `(samples, height, width)`."
   ]
  },
  {
   "cell_type": "code",
   "execution_count": 9,
   "id": "9d383bcb",
   "metadata": {
    "id": "9d383bcb"
   },
   "outputs": [
    {
     "name": "stdout",
     "output_type": "stream",
     "text": [
      "(50000, 28, 28)\n",
      "(10000, 28, 28)\n",
      "(10000, 28, 28)\n"
     ]
    }
   ],
   "source": [
    "print(partial_train_data.shape)\n",
    "print(val_data.shape)\n",
    "print(test_data.shape)"
   ]
  },
  {
   "cell_type": "code",
   "execution_count": 10,
   "id": "9d9a56ac",
   "metadata": {
    "id": "9d9a56ac"
   },
   "outputs": [
    {
     "name": "stdout",
     "output_type": "stream",
     "text": [
      "(50000,)\n",
      "(10000,)\n",
      "(10000,)\n"
     ]
    }
   ],
   "source": [
    "print(partial_train_labels.shape)\n",
    "print(val_labels.shape)\n",
    "print(test_labels.shape)"
   ]
  },
  {
   "cell_type": "markdown",
   "id": "8587a274",
   "metadata": {
    "id": "8587a274"
   },
   "source": [
    "Our convolutional neural network will expect 4-dimensional data: `(batch_size, height, width, channels)`. Note that depending on how you decide to update the parameters of the network, `batch_size` could equal the number of `samples` (as in *batch gradient descent*), or it could equal a single sample (as in *stochastic gradient descent*, or it can equal the batch size (as in *mini-batch gradient descent*).\n",
    "\n",
    "We can use a NumPy function to add this dimension."
   ]
  },
  {
   "cell_type": "code",
   "execution_count": 11,
   "id": "acbea7c1",
   "metadata": {
    "id": "acbea7c1"
   },
   "outputs": [],
   "source": [
    "partial_train_data = np.expand_dims(partial_train_data, axis=3)\n",
    "val_data = np.expand_dims(val_data, axis=3)\n",
    "test_data = np.expand_dims(test_data, axis=3)"
   ]
  },
  {
   "cell_type": "code",
   "execution_count": 12,
   "id": "536f781e",
   "metadata": {
    "id": "536f781e"
   },
   "outputs": [
    {
     "name": "stdout",
     "output_type": "stream",
     "text": [
      "(50000, 28, 28, 1)\n",
      "(10000, 28, 28, 1)\n",
      "(10000, 28, 28, 1)\n"
     ]
    }
   ],
   "source": [
    "print(partial_train_data.shape)\n",
    "print(val_data.shape)\n",
    "print(test_data.shape)"
   ]
  },
  {
   "cell_type": "markdown",
   "id": "638d8eeb",
   "metadata": {
    "id": "638d8eeb"
   },
   "source": [
    "Note how a fourth dimension was added to our data. This dimension corresponds to the number of channels in our input data. Here it is 1, since the images are all greyscale. It would be 3 if the images were RGB. Also note, that the convention here is *channels last*, as opposed to *channels first*."
   ]
  },
  {
   "cell_type": "markdown",
   "id": "76d9b7e4",
   "metadata": {
    "id": "76d9b7e4"
   },
   "source": [
    "As in Lab 1, we need to convert our label data to the correct format."
   ]
  },
  {
   "cell_type": "code",
   "execution_count": 13,
   "id": "6f1846a1",
   "metadata": {
    "id": "6f1846a1"
   },
   "outputs": [],
   "source": [
    "from tensorflow.keras.utils import to_categorical\n",
    "\n",
    "partial_train_labels = to_categorical(partial_train_labels)\n",
    "val_labels = to_categorical(val_labels)\n",
    "test_labels = to_categorical(test_labels)"
   ]
  },
  {
   "cell_type": "code",
   "execution_count": 14,
   "id": "c78c4ca3",
   "metadata": {
    "id": "c78c4ca3"
   },
   "outputs": [
    {
     "name": "stdout",
     "output_type": "stream",
     "text": [
      "(50000, 10)\n",
      "(10000, 10)\n",
      "(10000, 10)\n"
     ]
    }
   ],
   "source": [
    "print(partial_train_labels.shape)\n",
    "print(val_labels.shape)\n",
    "print(test_labels.shape)"
   ]
  },
  {
   "cell_type": "markdown",
   "id": "da4a79f2",
   "metadata": {
    "id": "da4a79f2"
   },
   "source": [
    "We will now import the necessary modules for building our convolutional neural network. Since we are using Keras's sequential API we need to import the `Sequential` module. The remaining 3 imports will help us build the layers of our CNN. `Conv2D` creates the convolutional layers we have been discussing in the lectures. `Flatten` is used to create a 1 dimensional vector so we can feed the output of our convolutional layers to the fully-connected layers. We used NumPy's `reshape` function to do this flattening in Lab 1. And the `Dense` layer is the same as what we used in Lab 1."
   ]
  },
  {
   "cell_type": "code",
   "execution_count": 15,
   "id": "9f8ac061",
   "metadata": {
    "id": "9f8ac061"
   },
   "outputs": [],
   "source": [
    "from tensorflow.keras.models import Sequential\n",
    "from tensorflow.keras.layers import Conv2D, Flatten, Dense"
   ]
  },
  {
   "cell_type": "markdown",
   "id": "b604145d",
   "metadata": {
    "id": "b604145d"
   },
   "source": [
    "We are going to use a slightly different approach to building our network than we did in Lab 1. Here we will directly add a *list of layers* to the `Sequential()` object. That is, we put all our layers inside square brackets `[...]` and put this inside the `Sequential( [...] )` object to create our model. In Lab 1 we used the `.add()` method to add individual layers to our `Sequential()` object that we initialized without any layers."
   ]
  },
  {
   "cell_type": "code",
   "execution_count": 33,
   "id": "79abd458",
   "metadata": {
    "id": "79abd458"
   },
   "outputs": [],
   "source": [
    "model = Sequential([\n",
    "    Conv2D(filters=32,\n",
    "           kernel_size=(3, 3),\n",
    "           strides=1,\n",
    "           padding='same',\n",
    "           activation='relu',\n",
    "           input_shape=(28, 28, 1)),\n",
    "    Conv2D(filters=32,\n",
    "           kernel_size=(3, 3),\n",
    "           strides=2,\n",
    "           padding='valid',\n",
    "           activation='relu'),\n",
    "    Conv2D(filters=64,\n",
    "           kernel_size=(3, 3),\n",
    "           strides=1,\n",
    "           padding='same',\n",
    "          activation='relu'),\n",
    "    Conv2D(filters=64,\n",
    "           kernel_size=(3, 3),\n",
    "           strides=1,\n",
    "           padding='valid',\n",
    "           activation='relu'),\n",
    "    Flatten(),\n",
    "    Dense(128, activation='relu'),\n",
    "    Dense(10, activation='softmax')\n",
    "])"
   ]
  },
  {
   "cell_type": "markdown",
   "id": "79ca17b7",
   "metadata": {
    "id": "79ca17b7"
   },
   "source": [
    "It is often helpful to see the tensor shapes and number of parameters per layer. We can get this information by using the `.summary()` method."
   ]
  },
  {
   "cell_type": "code",
   "execution_count": 34,
   "id": "cfd3649d",
   "metadata": {
    "id": "cfd3649d"
   },
   "outputs": [
    {
     "name": "stdout",
     "output_type": "stream",
     "text": [
      "Model: \"sequential_9\"\n",
      "_________________________________________________________________\n",
      " Layer (type)                Output Shape              Param #   \n",
      "=================================================================\n",
      " conv2d_24 (Conv2D)          (None, 28, 28, 32)        320       \n",
      "                                                                 \n",
      " conv2d_25 (Conv2D)          (None, 13, 13, 32)        9248      \n",
      "                                                                 \n",
      " conv2d_26 (Conv2D)          (None, 13, 13, 64)        18496     \n",
      "                                                                 \n",
      " conv2d_27 (Conv2D)          (None, 11, 11, 64)        36928     \n",
      "                                                                 \n",
      " flatten_2 (Flatten)         (None, 7744)              0         \n",
      "                                                                 \n",
      " dense_4 (Dense)             (None, 128)               991360    \n",
      "                                                                 \n",
      " dense_5 (Dense)             (None, 10)                1290      \n",
      "                                                                 \n",
      "=================================================================\n",
      "Total params: 1057642 (4.03 MB)\n",
      "Trainable params: 1057642 (4.03 MB)\n",
      "Non-trainable params: 0 (0.00 Byte)\n",
      "_________________________________________________________________\n"
     ]
    }
   ],
   "source": [
    "model.summary()"
   ]
  },
  {
   "cell_type": "markdown",
   "id": "a59f6c82",
   "metadata": {
    "id": "a59f6c82"
   },
   "source": [
    "We are still tackling the same type of problem (multi-class classification) so the same loss and metrics will work for us here. The optimizer `rmsprop` is the same as we used before and can be taken as the default method (or recipe) to try out for updating the model parameters."
   ]
  },
  {
   "cell_type": "code",
   "execution_count": 18,
   "id": "192f7772",
   "metadata": {
    "id": "192f7772"
   },
   "outputs": [],
   "source": [
    "model.compile(optimizer='rmsprop',\n",
    "              loss='categorical_crossentropy',\n",
    "              metrics=['accuracy'])"
   ]
  },
  {
   "cell_type": "markdown",
   "id": "3bce024b",
   "metadata": {
    "id": "3bce024b"
   },
   "source": [
    "We now fit our model to the remaining training data (the original training data minus the validation data). You will now see that *loss* and *accuracy* get updated for each batch of images (here set to 256) but the *validation loss* and *validation accuracy* get updated after each *epoch*. Note that the *validation data* is not being used to train the model. Each batch of the training data is used to update the parameters and then, once we have gone through all of the samples in our training data (that is, all the samples in `partial_train_data`) the model is used to make predictions for the validation set. From those predictions the validation loss and accuracy are calculated.\n",
    "\n",
    "Each epoch of training should take 30-50s to complete."
   ]
  },
  {
   "cell_type": "code",
   "execution_count": 19,
   "id": "8f314531",
   "metadata": {
    "id": "8f314531"
   },
   "outputs": [
    {
     "name": "stdout",
     "output_type": "stream",
     "text": [
      "Epoch 1/10\n",
      "196/196 [==============================] - 60s 291ms/step - loss: 0.3015 - accuracy: 0.9048 - val_loss: 0.1058 - val_accuracy: 0.9682\n",
      "Epoch 2/10\n",
      "196/196 [==============================] - 56s 285ms/step - loss: 0.0563 - accuracy: 0.9822 - val_loss: 0.1085 - val_accuracy: 0.9677\n",
      "Epoch 3/10\n",
      "196/196 [==============================] - 55s 279ms/step - loss: 0.0332 - accuracy: 0.9897 - val_loss: 0.0628 - val_accuracy: 0.9832\n",
      "Epoch 4/10\n",
      "196/196 [==============================] - 60s 308ms/step - loss: 0.0229 - accuracy: 0.9928 - val_loss: 0.0482 - val_accuracy: 0.9847\n",
      "Epoch 5/10\n",
      "196/196 [==============================] - 63s 320ms/step - loss: 0.0151 - accuracy: 0.9955 - val_loss: 0.0603 - val_accuracy: 0.9868\n",
      "Epoch 6/10\n",
      "196/196 [==============================] - 59s 302ms/step - loss: 0.0109 - accuracy: 0.9964 - val_loss: 0.0551 - val_accuracy: 0.9868\n",
      "Epoch 7/10\n",
      "196/196 [==============================] - 59s 300ms/step - loss: 0.0085 - accuracy: 0.9973 - val_loss: 0.0532 - val_accuracy: 0.9894\n",
      "Epoch 8/10\n",
      "196/196 [==============================] - 58s 295ms/step - loss: 0.0056 - accuracy: 0.9983 - val_loss: 0.0588 - val_accuracy: 0.9890\n",
      "Epoch 9/10\n",
      "196/196 [==============================] - 57s 290ms/step - loss: 0.0050 - accuracy: 0.9986 - val_loss: 0.0601 - val_accuracy: 0.9890\n",
      "Epoch 10/10\n",
      "196/196 [==============================] - 56s 287ms/step - loss: 0.0047 - accuracy: 0.9985 - val_loss: 0.0702 - val_accuracy: 0.9876\n"
     ]
    }
   ],
   "source": [
    "history = model.fit(partial_train_data,\n",
    "                    partial_train_labels,\n",
    "                    epochs=10,\n",
    "                    batch_size=256,\n",
    "                    validation_data=(val_data, val_labels),\n",
    "                    verbose=1)"
   ]
  },
  {
   "cell_type": "markdown",
   "id": "37a38a57",
   "metadata": {
    "id": "37a38a57"
   },
   "source": [
    "The values for the training loss and accuracy, as well as the validation loss and accuracy, are stored in the `history` variable. You can see the structure of the dictionary that stores this information as follows:"
   ]
  },
  {
   "cell_type": "code",
   "execution_count": 20,
   "id": "50091fd0",
   "metadata": {
    "id": "50091fd0"
   },
   "outputs": [
    {
     "data": {
      "text/plain": [
       "[0.30153658986091614,\n",
       " 0.056304171681404114,\n",
       " 0.03321387246251106,\n",
       " 0.022904783487319946,\n",
       " 0.015124622732400894,\n",
       " 0.010887392796576023,\n",
       " 0.008544424548745155,\n",
       " 0.005580858793109655,\n",
       " 0.004962155595421791,\n",
       " 0.004698625300079584]"
      ]
     },
     "execution_count": 20,
     "metadata": {},
     "output_type": "execute_result"
    }
   ],
   "source": [
    "history.history['loss']"
   ]
  },
  {
   "cell_type": "markdown",
   "id": "5d77157e",
   "metadata": {
    "id": "5d77157e"
   },
   "source": [
    "We will now use this information to visualize the progress our network makes on the loss and accuracy as the number of epochs increases."
   ]
  },
  {
   "cell_type": "code",
   "execution_count": 21,
   "id": "4997ef2b",
   "metadata": {
    "id": "4997ef2b"
   },
   "outputs": [
    {
     "data": {
      "image/png": "[encoded data removed]",
      "text/plain": [
       "<Figure size 640x480 with 1 Axes>"
      ]
     },
     "metadata": {},
     "output_type": "display_data"
    }
   ],
   "source": [
    "import matplotlib.pyplot as plt  # needed to create our plot\n",
    "\n",
    "history_dict = history.history # the dictionary that has the information on loss and accuracy per epoch\n",
    "\n",
    "loss_values = history_dict['loss']   # training loss\n",
    "val_loss_values = history_dict['val_loss'] # validation loss\n",
    "\n",
    "epochs = range(1, len(loss_values)+1)  #creates list of integers to match the number of epochs of training\n",
    "\n",
    "# code to plot the results\n",
    "plt.plot(epochs, loss_values, 'b', label=\"Training Loss\")\n",
    "plt.plot(epochs, val_loss_values, 'r', label=\"Validation Loss\")\n",
    "plt.title(\"Training and Validation Loss\")\n",
    "plt.xlabel(\"Epochs\")\n",
    "plt.xticks(epochs)\n",
    "plt.ylabel(\"Loss\")\n",
    "plt.legend()\n",
    "plt.show()"
   ]
  },
  {
   "cell_type": "code",
   "execution_count": 22,
   "id": "f5b78182",
   "metadata": {
    "id": "f5b78182"
   },
   "outputs": [
    {
     "data": {
      "image/png": "[encoded data removed]",
      "text/plain": [
       "<Figure size 640x480 with 1 Axes>"
      ]
     },
     "metadata": {},
     "output_type": "display_data"
    }
   ],
   "source": [
    "# As above, but this time we want to visualize the training and validation accuracy\n",
    "acc_values = history_dict['accuracy']\n",
    "val_acc_values = history_dict['val_accuracy']\n",
    "\n",
    "plt.plot(epochs, acc_values, 'b', label=\"Training Accuracy\")\n",
    "plt.plot(epochs, val_acc_values, 'r', label=\"Validation Accuracy\")\n",
    "plt.title(\"Training and Validation Accuracy\")\n",
    "plt.xlabel(\"Epochs\")\n",
    "plt.xticks(epochs)\n",
    "plt.ylabel(\"Accuracy\")\n",
    "plt.legend()\n",
    "plt.show()"
   ]
  },
  {
   "cell_type": "markdown",
   "id": "16f89c1b-c3e4-47cc-b083-3dbe056c4926",
   "metadata": {
    "id": "16f89c1b-c3e4-47cc-b083-3dbe056c4926"
   },
   "source": [
    "## Exercise: Change the layers\n",
    "\n",
    "Play around with the **number of filters** and the **filter size** in our model. Note the change in:\n",
    "- number of parameters in the model\n",
    "- training and validation losses and accuracies"
   ]
  },
  {
   "cell_type": "markdown",
   "id": "9b79813e-127a-48fc-aa92-c4b4453a6da4",
   "metadata": {
    "id": "9b79813e-127a-48fc-aa92-c4b4453a6da4",
    "tags": []
   },
   "source": [
    "### Exercise: Early Stopping\n",
    "\n",
    "When you have a final model, train it until the validation loss stops decreasing. At this point, the model will have stopped learning and will start to memorize the training data. The model may be starting to overfit. Note the number of epochs at which this happens.  One way to avoid this overfitting is called *early stopping*.  \n",
    "\n",
    "Try implementing early stopping for our model:\n",
    "- use the validation loss plot to determine which epoch corresponds to when the model stops learning\n",
    "    - if it so happens that the validation loss continues going down for all 10 epochs, then increase the number of epochs in the original code to 20\n",
    "- use the complete training set (no validation set)\n",
    "- scale this training set\n",
    "- expand its dimensions to 4\n",
    "- use the same model, and same optimizer, loss and metrics\n",
    "- fit the model to the complete training set (no validation set)\n",
    "- evaluate the trained model on the test data\n"
   ]
  },
  {
   "cell_type": "code",
   "execution_count": 23,
   "id": "c9226968",
   "metadata": {
    "id": "c9226968"
   },
   "outputs": [],
   "source": [
    "model2 = Sequential([\n",
    "    Conv2D(filters=64,\n",
    "           kernel_size=(2, 2),\n",
    "           strides=1,\n",
    "           padding='same',\n",
    "           activation='relu',\n",
    "           input_shape=(28, 28, 1)),\n",
    "    Conv2D(filters=64,\n",
    "           kernel_size=(2, 2),\n",
    "           strides=2,\n",
    "           padding='valid',\n",
    "           activation='relu'),\n",
    "    Conv2D(filters=128,\n",
    "           kernel_size=(2, 2),\n",
    "           strides=1,\n",
    "           padding='same',\n",
    "          activation='relu'),\n",
    "    Conv2D(filters=128,\n",
    "           kernel_size=(2, 2),\n",
    "           strides=1,\n",
    "           padding='valid',\n",
    "           activation='relu'),\n",
    "\n",
    "    Flatten(),\n",
    "    Dense(128, activation='relu'),\n",
    "    Dense(10, activation='softmax')\n",
    "])"
   ]
  },
  {
   "cell_type": "code",
   "execution_count": 24,
   "id": "5d7f2001",
   "metadata": {},
   "outputs": [
    {
     "name": "stdout",
     "output_type": "stream",
     "text": [
      "Model: \"sequential_1\"\n",
      "_________________________________________________________________\n",
      " Layer (type)                Output Shape              Param #   \n",
      "=================================================================\n",
      " conv2d_6 (Conv2D)           (None, 28, 28, 64)        320       \n",
      "                                                                 \n",
      " conv2d_7 (Conv2D)           (None, 14, 14, 64)        16448     \n",
      "                                                                 \n",
      " conv2d_8 (Conv2D)           (None, 14, 14, 128)       32896     \n",
      "                                                                 \n",
      " conv2d_9 (Conv2D)           (None, 13, 13, 128)       65664     \n",
      "                                                                 \n",
      " flatten_1 (Flatten)         (None, 21632)             0         \n",
      "                                                                 \n",
      " dense_2 (Dense)             (None, 128)               2769024   \n",
      "                                                                 \n",
      " dense_3 (Dense)             (None, 10)                1290      \n",
      "                                                                 \n",
      "=================================================================\n",
      "Total params: 2885642 (11.01 MB)\n",
      "Trainable params: 2885642 (11.01 MB)\n",
      "Non-trainable params: 0 (0.00 Byte)\n",
      "_________________________________________________________________\n"
     ]
    }
   ],
   "source": [
    "model2.summary()"
   ]
  },
  {
   "cell_type": "markdown",
   "id": "4fc80c37",
   "metadata": {},
   "source": [
    "Number of Total Parameters in the new model = 2885642"
   ]
  },
  {
   "cell_type": "code",
   "execution_count": 25,
   "id": "416bc849",
   "metadata": {},
   "outputs": [],
   "source": [
    "model2.compile(optimizer='rmsprop',\n",
    "              loss='categorical_crossentropy',\n",
    "              metrics=['accuracy'])"
   ]
  },
  {
   "cell_type": "code",
   "execution_count": 26,
   "id": "b4db0c83",
   "metadata": {},
   "outputs": [
    {
     "name": "stdout",
     "output_type": "stream",
     "text": [
      "Epoch 1/15\n",
      "196/196 [==============================] - 110s 544ms/step - loss: 0.2783 - accuracy: 0.9110 - val_loss: 0.1400 - val_accuracy: 0.9571\n",
      "Epoch 2/15\n",
      "196/196 [==============================] - 103s 527ms/step - loss: 0.0556 - accuracy: 0.9828 - val_loss: 0.0663 - val_accuracy: 0.9806\n",
      "Epoch 3/15\n",
      "196/196 [==============================] - 104s 531ms/step - loss: 0.0329 - accuracy: 0.9896 - val_loss: 0.0596 - val_accuracy: 0.9833\n",
      "Epoch 4/15\n",
      "196/196 [==============================] - 103s 526ms/step - loss: 0.0199 - accuracy: 0.9932 - val_loss: 0.0608 - val_accuracy: 0.9861\n",
      "Epoch 5/15\n",
      "196/196 [==============================] - 104s 531ms/step - loss: 0.0132 - accuracy: 0.9960 - val_loss: 0.0501 - val_accuracy: 0.9877\n",
      "Epoch 6/15\n",
      "196/196 [==============================] - 102s 522ms/step - loss: 0.0093 - accuracy: 0.9973 - val_loss: 0.0630 - val_accuracy: 0.9841\n",
      "Epoch 7/15\n",
      "196/196 [==============================] - 102s 522ms/step - loss: 0.0055 - accuracy: 0.9984 - val_loss: 0.0714 - val_accuracy: 0.9878\n",
      "Epoch 8/15\n",
      "196/196 [==============================] - 102s 522ms/step - loss: 0.0044 - accuracy: 0.9985 - val_loss: 0.0693 - val_accuracy: 0.9864\n",
      "Epoch 9/15\n",
      "196/196 [==============================] - 102s 522ms/step - loss: 0.0037 - accuracy: 0.9987 - val_loss: 0.0858 - val_accuracy: 0.9861\n",
      "Epoch 10/15\n",
      "196/196 [==============================] - 104s 529ms/step - loss: 0.0043 - accuracy: 0.9986 - val_loss: 0.0888 - val_accuracy: 0.9851\n",
      "Epoch 11/15\n",
      "196/196 [==============================] - 105s 535ms/step - loss: 0.0018 - accuracy: 0.9994 - val_loss: 0.0882 - val_accuracy: 0.9886\n",
      "Epoch 12/15\n",
      "196/196 [==============================] - 102s 518ms/step - loss: 0.0028 - accuracy: 0.9991 - val_loss: 0.0890 - val_accuracy: 0.9873\n",
      "Epoch 13/15\n",
      "196/196 [==============================] - 102s 522ms/step - loss: 0.0014 - accuracy: 0.9996 - val_loss: 0.1277 - val_accuracy: 0.9853\n",
      "Epoch 14/15\n",
      "196/196 [==============================] - 102s 518ms/step - loss: 0.0024 - accuracy: 0.9992 - val_loss: 0.0909 - val_accuracy: 0.9872\n",
      "Epoch 15/15\n",
      "196/196 [==============================] - 102s 521ms/step - loss: 0.0024 - accuracy: 0.9992 - val_loss: 0.0965 - val_accuracy: 0.9872\n"
     ]
    }
   ],
   "source": [
    "model2_history = model2.fit(partial_train_data,\n",
    "                    partial_train_labels,\n",
    "                    epochs=15,\n",
    "                    batch_size=256,\n",
    "                    validation_data=(val_data, val_labels),\n",
    "                    verbose=1)"
   ]
  },
  {
   "cell_type": "code",
   "execution_count": 27,
   "id": "f671529e",
   "metadata": {},
   "outputs": [
    {
     "data": {
      "text/plain": [
       "[0.2783326208591461,\n",
       " 0.05563987419009209,\n",
       " 0.03290426731109619,\n",
       " 0.019920719787478447,\n",
       " 0.013232690282166004,\n",
       " 0.009258289821445942,\n",
       " 0.005499010439962149,\n",
       " 0.00443912111222744,\n",
       " 0.00373443472199142,\n",
       " 0.004257999826222658,\n",
       " 0.0018231637077406049,\n",
       " 0.002812166465446353,\n",
       " 0.0014084703288972378,\n",
       " 0.002443499630317092,\n",
       " 0.0024215702433139086]"
      ]
     },
     "execution_count": 27,
     "metadata": {},
     "output_type": "execute_result"
    }
   ],
   "source": [
    "model2_history.history['loss']"
   ]
  },
  {
   "cell_type": "code",
   "execution_count": 28,
   "id": "4f5a45a2",
   "metadata": {},
   "outputs": [
    {
     "data": {
      "image/png": "[encoded data removed]",
      "text/plain": [
       "<Figure size 640x480 with 1 Axes>"
      ]
     },
     "metadata": {},
     "output_type": "display_data"
    }
   ],
   "source": [
    "import matplotlib.pyplot as plt  # needed to create our plot\n",
    "\n",
    "history_dict = model2_history.history # the dictionary that has the information on loss and accuracy per epoch\n",
    "\n",
    "loss_values = history_dict['loss']   # training loss\n",
    "val_loss_values = history_dict['val_loss'] # validation loss\n",
    "\n",
    "epochs = range(1, len(loss_values)+1)  #creates list of integers to match the number of epochs of training\n",
    "\n",
    "# code to plot the results\n",
    "plt.plot(epochs, loss_values, 'b', label=\"Training Loss\")\n",
    "plt.plot(epochs, val_loss_values, 'r', label=\"Validation Loss\")\n",
    "plt.title(\"Training and Validation Loss\")\n",
    "plt.xlabel(\"Epochs\")\n",
    "plt.xticks(epochs)\n",
    "plt.ylabel(\"Loss\")\n",
    "plt.legend()\n",
    "plt.show()"
   ]
  },
  {
   "cell_type": "markdown",
   "id": "d40dc27b",
   "metadata": {},
   "source": [
    "Explanation\n",
    "In the initial training with 64 filters and a 2x2 filter size, the total and trainable parameters were as follows: Total params: 10,57,642 and Trainable params: 10,57,642. After modifying the filter sizes within the layers, the new values for total and trainable parameters are now: Total params: 28,85,642and Trainable params28,85,642. Notably, these parameter adjustments have led to an enhancement in training accuracy, as evident in the visualizations provided above."
   ]
  },
  {
   "cell_type": "code",
   "execution_count": 48,
   "id": "b7ae1ec6-d28f-434f-a503-04d4d18bd892",
   "metadata": {
    "id": "b7ae1ec6-d28f-434f-a503-04d4d18bd892"
   },
   "outputs": [
    {
     "name": "stdout",
     "output_type": "stream",
     "text": [
      "(60000, 28, 28)\n",
      "(60000,)\n"
     ]
    }
   ],
   "source": [
    "entire_train_data = train_data[:]\n",
    "entire_train_labels = train_labels[:]\n",
    "\n",
    "print(entire_train_data.shape)\n",
    "print(entire_train_labels.shape)"
   ]
  },
  {
   "cell_type": "code",
   "execution_count": 49,
   "id": "32007943",
   "metadata": {},
   "outputs": [],
   "source": [
    "full_train_data = entire_train_data / 255."
   ]
  },
  {
   "cell_type": "code",
   "execution_count": 50,
   "id": "8f4930da",
   "metadata": {},
   "outputs": [
    {
     "data": {
      "text/plain": [
       "(60000, 28, 28, 1)"
      ]
     },
     "execution_count": 50,
     "metadata": {},
     "output_type": "execute_result"
    }
   ],
   "source": [
    "entire_train_data = np.expand_dims(full_train_data, axis=3)\n",
    "\n",
    "entire_train_data.shape"
   ]
  },
  {
   "cell_type": "code",
   "execution_count": 51,
   "id": "98ebbc19",
   "metadata": {},
   "outputs": [
    {
     "data": {
      "text/plain": [
       "(60000, 10)"
      ]
     },
     "execution_count": 51,
     "metadata": {},
     "output_type": "execute_result"
    }
   ],
   "source": [
    "from tensorflow.keras.utils import to_categorical\n",
    "\n",
    "entire_train_labels = to_categorical(entire_train_labels)\n",
    "\n",
    "entire_train_labels.shape"
   ]
  },
  {
   "cell_type": "code",
   "execution_count": 52,
   "id": "48230eec",
   "metadata": {},
   "outputs": [
    {
     "name": "stdout",
     "output_type": "stream",
     "text": [
      "Epoch 1/10\n",
      "235/235 [==============================] - 150s 617ms/step - loss: 0.0090 - accuracy: 0.9977\n",
      "Epoch 2/10\n",
      "235/235 [==============================] - 144s 613ms/step - loss: 0.0036 - accuracy: 0.9988\n",
      "Epoch 3/10\n",
      "235/235 [==============================] - 138s 587ms/step - loss: 0.0023 - accuracy: 0.9993\n",
      "Epoch 4/10\n",
      "235/235 [==============================] - 117s 498ms/step - loss: 0.0015 - accuracy: 0.9996\n",
      "Epoch 5/10\n",
      "235/235 [==============================] - 114s 483ms/step - loss: 7.6783e-04 - accuracy: 0.9998\n",
      "Epoch 6/10\n",
      "235/235 [==============================] - 116s 493ms/step - loss: 5.7536e-04 - accuracy: 0.9998\n",
      "Epoch 7/10\n",
      "235/235 [==============================] - 116s 495ms/step - loss: 4.4568e-04 - accuracy: 0.9998\n",
      "Epoch 8/10\n",
      "235/235 [==============================] - 117s 496ms/step - loss: 9.2011e-04 - accuracy: 0.9998\n",
      "Epoch 9/10\n",
      "235/235 [==============================] - 117s 498ms/step - loss: 3.7717e-05 - accuracy: 1.0000\n",
      "Epoch 10/10\n",
      "235/235 [==============================] - 116s 493ms/step - loss: 3.4267e-06 - accuracy: 1.0000\n"
     ]
    }
   ],
   "source": [
    "model2.compile(optimizer='rmsprop',\n",
    "              loss='categorical_crossentropy',\n",
    "              metrics=['accuracy'])\n",
    "\n",
    "\n",
    "model2_history = model2.fit(entire_train_data,\n",
    "                    entire_train_labels,\n",
    "                    epochs=10,\n",
    "                    batch_size=256,\n",
    "                    verbose=1)"
   ]
  },
  {
   "cell_type": "markdown",
   "id": "ef158385",
   "metadata": {},
   "source": [
    "Explanation\n",
    "We've noticed that when we reach the 10-epoch mark, the model is approaching a state of potential overfitting. To address this, our next step is to introduce a callback mechanism to monitor the occurrence of early stopping at a specific epoch."
   ]
  },
  {
   "cell_type": "markdown",
   "id": "7b43b0d3",
   "metadata": {},
   "source": [
    "### Exercise: Early Stopping with Callbacks\n",
    "\n",
    "Now try to implement early stopping using the Keras [callback](https://keras.io/api/callbacks/early_stopping/) functionality. In this case, you will need to use the validation data, because you want the early stopping to occur as a result of Keras monitoring the validation loss."
   ]
  },
  {
   "cell_type": "code",
   "execution_count": 53,
   "id": "412125f5",
   "metadata": {},
   "outputs": [],
   "source": [
    "model4 = Sequential([\n",
    "    Conv2D(filters=32,\n",
    "           kernel_size=(3, 3),\n",
    "           strides=1,\n",
    "           padding='same',\n",
    "           activation='relu',\n",
    "           input_shape=(28, 28, 1)),\n",
    "    Conv2D(filters=32,\n",
    "           kernel_size=(3, 3),\n",
    "           strides=2,\n",
    "           padding='valid',\n",
    "           activation='relu'),\n",
    "    Conv2D(filters=64,\n",
    "           kernel_size=(3, 3),\n",
    "           strides=1,\n",
    "           padding='same',\n",
    "          activation='relu'),\n",
    "    Conv2D(filters=128,\n",
    "           kernel_size=(3, 3),\n",
    "           strides=1,\n",
    "           padding='valid',\n",
    "           activation='relu'),\n",
    "\n",
    "    Flatten(),\n",
    "    Dense(128, activation='relu'),\n",
    "    Dense(10, activation='softmax')\n",
    "])"
   ]
  },
  {
   "cell_type": "code",
   "execution_count": 54,
   "id": "7fb98c5e",
   "metadata": {},
   "outputs": [],
   "source": [
    "model4.compile(optimizer='rmsprop',\n",
    "              loss='categorical_crossentropy',\n",
    "              metrics=['accuracy'])"
   ]
  },
  {
   "cell_type": "code",
   "execution_count": 55,
   "id": "d9c7e8c5",
   "metadata": {},
   "outputs": [],
   "source": [
    "callback = tf.keras.callbacks.EarlyStopping(monitor='loss', patience=2)"
   ]
  },
  {
   "cell_type": "code",
   "execution_count": 56,
   "id": "34c0b9d2",
   "metadata": {},
   "outputs": [
    {
     "name": "stdout",
     "output_type": "stream",
     "text": [
      "Epoch 1/15\n",
      "196/196 [==============================] - 72s 361ms/step - loss: 0.2920 - accuracy: 0.9096 - val_loss: 0.0720 - val_accuracy: 0.9808\n",
      "Epoch 2/15\n",
      "196/196 [==============================] - 69s 353ms/step - loss: 0.0506 - accuracy: 0.9841 - val_loss: 0.0538 - val_accuracy: 0.9842\n",
      "Epoch 3/15\n",
      "196/196 [==============================] - 69s 353ms/step - loss: 0.0303 - accuracy: 0.9907 - val_loss: 0.0553 - val_accuracy: 0.9857\n",
      "Epoch 4/15\n",
      "196/196 [==============================] - 70s 355ms/step - loss: 0.0204 - accuracy: 0.9936 - val_loss: 0.0474 - val_accuracy: 0.9874\n",
      "Epoch 5/15\n",
      "196/196 [==============================] - 69s 352ms/step - loss: 0.0142 - accuracy: 0.9959 - val_loss: 0.0459 - val_accuracy: 0.9886\n",
      "Epoch 6/15\n",
      "196/196 [==============================] - 70s 356ms/step - loss: 0.0099 - accuracy: 0.9968 - val_loss: 0.0796 - val_accuracy: 0.9819\n",
      "Epoch 7/15\n",
      "196/196 [==============================] - 71s 361ms/step - loss: 0.0081 - accuracy: 0.9976 - val_loss: 0.0566 - val_accuracy: 0.9881\n",
      "Epoch 8/15\n",
      "196/196 [==============================] - 68s 348ms/step - loss: 0.0052 - accuracy: 0.9984 - val_loss: 0.0609 - val_accuracy: 0.9871\n",
      "Epoch 9/15\n",
      "196/196 [==============================] - 68s 346ms/step - loss: 0.0028 - accuracy: 0.9992 - val_loss: 0.0718 - val_accuracy: 0.9859\n",
      "Epoch 10/15\n",
      "196/196 [==============================] - 68s 345ms/step - loss: 0.0029 - accuracy: 0.9992 - val_loss: 0.0669 - val_accuracy: 0.9878\n",
      "Epoch 11/15\n",
      "196/196 [==============================] - 70s 355ms/step - loss: 0.0037 - accuracy: 0.9990 - val_loss: 0.0765 - val_accuracy: 0.9874\n"
     ]
    }
   ],
   "source": [
    "model4_history = model4.fit(partial_train_data,\n",
    "                    partial_train_labels,\n",
    "                    epochs=15,\n",
    "                    batch_size=256,\n",
    "                    callbacks=[callback],\n",
    "                    validation_data=(val_data, val_labels),\n",
    "                    verbose=1)"
   ]
  },
  {
   "cell_type": "markdown",
   "id": "11bce958",
   "metadata": {},
   "source": [
    "Explanation\n",
    "we see that the early stopping has been implemented by the 11th epoch. this means that the early stopping model has been implemented where the values start repeating and the model might overfit beyond this point."
   ]
  }
 ],
 "metadata": {
  "colab": {
   "provenance": []
  },
  "kernelspec": {
   "display_name": "Python 3 (ipykernel)",
   "language": "python",
   "name": "python3"
  },
  "language_info": {
   "codemirror_mode": {
    "name": "ipython",
    "version": 3
   },
   "file_extension": ".py",
   "mimetype": "text/x-python",
   "name": "python",
   "nbconvert_exporter": "python",
   "pygments_lexer": "ipython3",
   "version": "3.9.13"
  }
 },
 "nbformat": 4,
 "nbformat_minor": 5
}
