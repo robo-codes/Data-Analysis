{
 "cells": [
  {
   "cell_type": "markdown",
   "metadata": {
    "id": "f0VqqheB9gLA",
    "tags": []
   },
   "source": [
    "# Lab 1: Keras and MNIST (35 Marks)\n",
    "\n",
    "**This is a modified version of the original notebook by Francois Chollet.**"
   ]
  },
  {
   "cell_type": "markdown",
   "metadata": {
    "id": "wQ9XZcBc_3Fz"
   },
   "source": [
    "## **Group - Num**\n",
    "*   Ruturajsinh Solanki - 0827884\n",
    "*   Chris Chhotai - 0826416\n",
    "*   Isha Dhaduk - 0827577\n",
    "*   Parth Tripathi - 0826520\n",
    "\n",
    "\n",
    "\n"
   ]
  },
  {
   "cell_type": "code",
   "execution_count": 118,
   "metadata": {},
   "outputs": [
    {
     "name": "stdout",
     "output_type": "stream",
     "text": [
      "Requirement already satisfied: tensorflow in c:\\users\\solan\\anaconda3\\lib\\site-packages (2.13.0)\n",
      "Requirement already satisfied: tensorflow-intel==2.13.0 in c:\\users\\solan\\anaconda3\\lib\\site-packages (from tensorflow) (2.13.0)\n",
      "Requirement already satisfied: libclang>=13.0.0 in c:\\users\\solan\\anaconda3\\lib\\site-packages (from tensorflow-intel==2.13.0->tensorflow) (16.0.6)\n",
      "Requirement already satisfied: protobuf!=4.21.0,!=4.21.1,!=4.21.2,!=4.21.3,!=4.21.4,!=4.21.5,<5.0.0dev,>=3.20.3 in c:\\users\\solan\\anaconda3\\lib\\site-packages (from tensorflow-intel==2.13.0->tensorflow) (4.24.3)\n",
      "Requirement already satisfied: astunparse>=1.6.0 in c:\\users\\solan\\anaconda3\\lib\\site-packages (from tensorflow-intel==2.13.0->tensorflow) (1.6.3)\n",
      "Requirement already satisfied: absl-py>=1.0.0 in c:\\users\\solan\\anaconda3\\lib\\site-packages (from tensorflow-intel==2.13.0->tensorflow) (1.4.0)\n",
      "Requirement already satisfied: keras<2.14,>=2.13.1 in c:\\users\\solan\\anaconda3\\lib\\site-packages (from tensorflow-intel==2.13.0->tensorflow) (2.13.1)\n",
      "Requirement already satisfied: google-pasta>=0.1.1 in c:\\users\\solan\\anaconda3\\lib\\site-packages (from tensorflow-intel==2.13.0->tensorflow) (0.2.0)\n",
      "Requirement already satisfied: numpy<=1.24.3,>=1.22 in c:\\users\\solan\\anaconda3\\lib\\site-packages (from tensorflow-intel==2.13.0->tensorflow) (1.24.3)\n",
      "Requirement already satisfied: termcolor>=1.1.0 in c:\\users\\solan\\anaconda3\\lib\\site-packages (from tensorflow-intel==2.13.0->tensorflow) (2.3.0)\n",
      "Requirement already satisfied: flatbuffers>=23.1.21 in c:\\users\\solan\\anaconda3\\lib\\site-packages (from tensorflow-intel==2.13.0->tensorflow) (23.5.26)\n",
      "Requirement already satisfied: tensorboard<2.14,>=2.13 in c:\\users\\solan\\anaconda3\\lib\\site-packages (from tensorflow-intel==2.13.0->tensorflow) (2.13.0)\n",
      "Requirement already satisfied: wrapt>=1.11.0 in c:\\users\\solan\\anaconda3\\lib\\site-packages (from tensorflow-intel==2.13.0->tensorflow) (1.14.1)\n",
      "Requirement already satisfied: h5py>=2.9.0 in c:\\users\\solan\\anaconda3\\lib\\site-packages (from tensorflow-intel==2.13.0->tensorflow) (3.7.0)\n",
      "Requirement already satisfied: setuptools in c:\\users\\solan\\anaconda3\\lib\\site-packages (from tensorflow-intel==2.13.0->tensorflow) (63.4.1)\n",
      "Requirement already satisfied: six>=1.12.0 in c:\\users\\solan\\anaconda3\\lib\\site-packages (from tensorflow-intel==2.13.0->tensorflow) (1.16.0)\n",
      "Requirement already satisfied: tensorflow-io-gcs-filesystem>=0.23.1 in c:\\users\\solan\\anaconda3\\lib\\site-packages (from tensorflow-intel==2.13.0->tensorflow) (0.31.0)\n",
      "Requirement already satisfied: gast<=0.4.0,>=0.2.1 in c:\\users\\solan\\anaconda3\\lib\\site-packages (from tensorflow-intel==2.13.0->tensorflow) (0.4.0)\n",
      "Requirement already satisfied: tensorflow-estimator<2.14,>=2.13.0 in c:\\users\\solan\\anaconda3\\lib\\site-packages (from tensorflow-intel==2.13.0->tensorflow) (2.13.0)\n",
      "Requirement already satisfied: typing-extensions<4.6.0,>=3.6.6 in c:\\users\\solan\\anaconda3\\lib\\site-packages (from tensorflow-intel==2.13.0->tensorflow) (4.3.0)\n",
      "Requirement already satisfied: packaging in c:\\users\\solan\\anaconda3\\lib\\site-packages (from tensorflow-intel==2.13.0->tensorflow) (21.3)\n",
      "Requirement already satisfied: grpcio<2.0,>=1.24.3 in c:\\users\\solan\\anaconda3\\lib\\site-packages (from tensorflow-intel==2.13.0->tensorflow) (1.58.0)\n",
      "Requirement already satisfied: opt-einsum>=2.3.2 in c:\\users\\solan\\anaconda3\\lib\\site-packages (from tensorflow-intel==2.13.0->tensorflow) (3.3.0)\n",
      "Requirement already satisfied: wheel<1.0,>=0.23.0 in c:\\users\\solan\\anaconda3\\lib\\site-packages (from astunparse>=1.6.0->tensorflow-intel==2.13.0->tensorflow) (0.37.1)\n",
      "Requirement already satisfied: google-auth<3,>=1.6.3 in c:\\users\\solan\\anaconda3\\lib\\site-packages (from tensorboard<2.14,>=2.13->tensorflow-intel==2.13.0->tensorflow) (2.23.0)\n",
      "Requirement already satisfied: markdown>=2.6.8 in c:\\users\\solan\\anaconda3\\lib\\site-packages (from tensorboard<2.14,>=2.13->tensorflow-intel==2.13.0->tensorflow) (3.3.4)\n",
      "Requirement already satisfied: tensorboard-data-server<0.8.0,>=0.7.0 in c:\\users\\solan\\anaconda3\\lib\\site-packages (from tensorboard<2.14,>=2.13->tensorflow-intel==2.13.0->tensorflow) (0.7.1)\n",
      "Requirement already satisfied: requests<3,>=2.21.0 in c:\\users\\solan\\anaconda3\\lib\\site-packages (from tensorboard<2.14,>=2.13->tensorflow-intel==2.13.0->tensorflow) (2.28.1)\n",
      "Requirement already satisfied: google-auth-oauthlib<1.1,>=0.5 in c:\\users\\solan\\anaconda3\\lib\\site-packages (from tensorboard<2.14,>=2.13->tensorflow-intel==2.13.0->tensorflow) (1.0.0)\n",
      "Requirement already satisfied: werkzeug>=1.0.1 in c:\\users\\solan\\anaconda3\\lib\\site-packages (from tensorboard<2.14,>=2.13->tensorflow-intel==2.13.0->tensorflow) (2.2.3)\n",
      "Requirement already satisfied: pyparsing!=3.0.5,>=2.0.2 in c:\\users\\solan\\anaconda3\\lib\\site-packages (from packaging->tensorflow-intel==2.13.0->tensorflow) (3.0.9)\n",
      "Requirement already satisfied: cachetools<6.0,>=2.0.0 in c:\\users\\solan\\anaconda3\\lib\\site-packages (from google-auth<3,>=1.6.3->tensorboard<2.14,>=2.13->tensorflow-intel==2.13.0->tensorflow) (5.3.1)\n",
      "Requirement already satisfied: urllib3<2.0 in c:\\users\\solan\\anaconda3\\lib\\site-packages (from google-auth<3,>=1.6.3->tensorboard<2.14,>=2.13->tensorflow-intel==2.13.0->tensorflow) (1.26.11)\n",
      "Requirement already satisfied: pyasn1-modules>=0.2.1 in c:\\users\\solan\\anaconda3\\lib\\site-packages (from google-auth<3,>=1.6.3->tensorboard<2.14,>=2.13->tensorflow-intel==2.13.0->tensorflow) (0.2.8)\n",
      "Requirement already satisfied: rsa<5,>=3.1.4 in c:\\users\\solan\\anaconda3\\lib\\site-packages (from google-auth<3,>=1.6.3->tensorboard<2.14,>=2.13->tensorflow-intel==2.13.0->tensorflow) (4.9)\n",
      "Requirement already satisfied: requests-oauthlib>=0.7.0 in c:\\users\\solan\\anaconda3\\lib\\site-packages (from google-auth-oauthlib<1.1,>=0.5->tensorboard<2.14,>=2.13->tensorflow-intel==2.13.0->tensorflow) (1.3.1)\n",
      "Requirement already satisfied: charset-normalizer<3,>=2 in c:\\users\\solan\\anaconda3\\lib\\site-packages (from requests<3,>=2.21.0->tensorboard<2.14,>=2.13->tensorflow-intel==2.13.0->tensorflow) (2.0.4)\n",
      "Requirement already satisfied: idna<4,>=2.5 in c:\\users\\solan\\anaconda3\\lib\\site-packages (from requests<3,>=2.21.0->tensorboard<2.14,>=2.13->tensorflow-intel==2.13.0->tensorflow) (3.3)\n",
      "Requirement already satisfied: certifi>=2017.4.17 in c:\\users\\solan\\anaconda3\\lib\\site-packages (from requests<3,>=2.21.0->tensorboard<2.14,>=2.13->tensorflow-intel==2.13.0->tensorflow) (2022.9.14)\n",
      "Requirement already satisfied: MarkupSafe>=2.1.1 in c:\\users\\solan\\anaconda3\\lib\\site-packages (from werkzeug>=1.0.1->tensorboard<2.14,>=2.13->tensorflow-intel==2.13.0->tensorflow) (2.1.2)\n",
      "Requirement already satisfied: pyasn1<0.5.0,>=0.4.6 in c:\\users\\solan\\anaconda3\\lib\\site-packages (from pyasn1-modules>=0.2.1->google-auth<3,>=1.6.3->tensorboard<2.14,>=2.13->tensorflow-intel==2.13.0->tensorflow) (0.4.8)\n",
      "Requirement already satisfied: oauthlib>=3.0.0 in c:\\users\\solan\\anaconda3\\lib\\site-packages (from requests-oauthlib>=0.7.0->google-auth-oauthlib<1.1,>=0.5->tensorboard<2.14,>=2.13->tensorflow-intel==2.13.0->tensorflow) (3.2.2)\n"
     ]
    }
   ],
   "source": [
    "!pip install tensorflow"
   ]
  },
  {
   "cell_type": "markdown",
   "metadata": {
    "id": "xGg5n-GT9gLB",
    "tags": []
   },
   "source": [
    "## Objectives\n",
    "\n",
    "By the end of this lab, you should be able to:\n",
    " - explain the role of train, validation, and test sets and understand why the tutorial is  only using train and test\n",
    " - explain the tensor (data) shapes of (28, 28), (60000, 28, 28), (784,), and (60000, 784); what they mean and where they come from\n",
    " - explain one-hot encoding of the label data\n",
    " - sketch (on paper) the architecture/structure of the model being used\n",
    " - calculate by hand how many parameters (weights and biases) the network is using  \n",
    " - understand the output of model.summary() and use to verify the parameter calculation done above\n",
    " - explain why this neural network has 10 output neurons\n",
    " - provide basic explanations for the terms *optimizer*, *loss*, and *metric*\n",
    " - explain what an *epoch* is\n",
    " - explain what is meant by *batch size* and how it is connected to model learning\n",
    " - explain the difference between training a network and testing a network\n",
    " - give a brief explanation of the softmax function and how it is being used"
   ]
  },
  {
   "cell_type": "markdown",
   "metadata": {
    "id": "ucstVChn9gLC"
   },
   "source": [
    "We will now take a look at a first concrete example of a neural network, which makes use of the Python library Keras to learn to classify hand-written digits. Unless you already have experience with Keras or similar libraries, you will not understand everything about this first example right away. Don't worry, that is perfectly fine. We've got to start somewhere.\n",
    "\n",
    "The problem we are trying to solve here is to classify grayscale images of handwritten digits (28 pixels by 28 pixels), into their 10 categories (0 to 9). The dataset we will use is the MNIST dataset, a classic dataset in the machine learning community, which has been around for almost as long as the field itself and has been very intensively studied. It's a set of 60,000 training images, plus 10,000 test images, assembled by the National Institute of Standards and Technology (the NIST in MNIST) in the 1980s. You can think of \"solving\" MNIST as the \"Hello World\" of deep learning -- it's what you do to verify that your algorithms are working as expected. As you become a machine learning practitioner, you will see MNIST come up over and over again, in scientific papers, blog posts, and so on.\n",
    "\n",
    "The MNIST dataset comes pre-loaded in Keras, in the form of a set of four Numpy arrays:"
   ]
  },
  {
   "cell_type": "code",
   "execution_count": 119,
   "metadata": {
    "id": "ZSZVkKih9gLD"
   },
   "outputs": [],
   "source": [
    "from tensorflow.keras.datasets import mnist\n",
    "from keras.layers import Dropout\n",
    "from tensorflow.keras.optimizers import Adam\n",
    "from tensorflow.keras.initializers import GlorotUniform\n",
    "(train_images, train_labels), (test_images, test_labels) = mnist.load_data()"
   ]
  },
  {
   "cell_type": "markdown",
   "metadata": {
    "id": "5lfCgDDl9gLD"
   },
   "source": [
    "`train_images` and `train_labels` form the \"training set\", the data that the model will learn from. The model will then be tested on the\n",
    "\"test set\", `test_images` and `test_labels`. Our images are encoded as Numpy arrays, and the labels are simply an array of digits, ranging\n",
    "from 0 to 9. There is a one-to-one correspondence between the images and the labels.\n",
    "\n",
    "Let's have a look at the training data:"
   ]
  },
  {
   "cell_type": "code",
   "execution_count": 120,
   "metadata": {
    "id": "6HU3YL6t9gLE",
    "outputId": "db37f46a-c838-4db6-dc4f-33aafff2935c"
   },
   "outputs": [
    {
     "data": {
      "text/plain": [
       "<matplotlib.image.AxesImage at 0x1f588a68df0>"
      ]
     },
     "execution_count": 120,
     "metadata": {},
     "output_type": "execute_result"
    },
    {
     "data": {
      "image/png": "[encoded data removed]",
      "text/plain": [
       "<Figure size 640x480 with 1 Axes>"
      ]
     },
     "metadata": {},
     "output_type": "display_data"
    }
   ],
   "source": [
    "import matplotlib.pyplot as plt\n",
    "\n",
    "plt.imshow(train_images[0], cmap='gray')"
   ]
  },
  {
   "cell_type": "code",
   "execution_count": 121,
   "metadata": {
    "id": "2iajyGuX9gLE",
    "outputId": "380be12b-c312-4bf5-882f-c514cc2dda84"
   },
   "outputs": [
    {
     "data": {
      "text/plain": [
       "(60000, 28, 28)"
      ]
     },
     "execution_count": 121,
     "metadata": {},
     "output_type": "execute_result"
    }
   ],
   "source": [
    "train_images.shape"
   ]
  },
  {
   "cell_type": "code",
   "execution_count": 122,
   "metadata": {
    "id": "OgU44CCY9gLF",
    "outputId": "c0a6646b-cd66-4464-8acd-88e2a6bad5ab",
    "scrolled": true
   },
   "outputs": [
    {
     "data": {
      "text/plain": [
       "array([[  0,   0,   0,   0,   0,   0,   0,   0,   0,   0,   0,   0,   0,\n",
       "          0,   0,   0,   0,   0,   0,   0,   0,   0,   0,   0,   0,   0,\n",
       "          0,   0],\n",
       "       [  0,   0,   0,   0,   0,   0,   0,   0,   0,   0,   0,   0,   0,\n",
       "          0,   0,   0,   0,   0,   0,   0,   0,   0,   0,   0,   0,   0,\n",
       "          0,   0],\n",
       "       [  0,   0,   0,   0,   0,   0,   0,   0,   0,   0,   0,   0,   0,\n",
       "          0,   0,   0,   0,   0,   0,   0,   0,   0,   0,   0,   0,   0,\n",
       "          0,   0],\n",
       "       [  0,   0,   0,   0,   0,   0,   0,   0,   0,   0,   0,   0,   0,\n",
       "          0,   0,   0,   0,   0,   0,   0,   0,   0,   0,   0,   0,   0,\n",
       "          0,   0],\n",
       "       [  0,   0,   0,   0,   0,   0,   0,   0,   0,   0,   0,   0,   0,\n",
       "          0,   0,   0,   0,   0,   0,   0,   0,   0,   0,   0,   0,   0,\n",
       "          0,   0],\n",
       "       [  0,   0,   0,   0,   0,   0,   0,   0,   0,   0,   0,   0,   3,\n",
       "         18,  18,  18, 126, 136, 175,  26, 166, 255, 247, 127,   0,   0,\n",
       "          0,   0],\n",
       "       [  0,   0,   0,   0,   0,   0,   0,   0,  30,  36,  94, 154, 170,\n",
       "        253, 253, 253, 253, 253, 225, 172, 253, 242, 195,  64,   0,   0,\n",
       "          0,   0],\n",
       "       [  0,   0,   0,   0,   0,   0,   0,  49, 238, 253, 253, 253, 253,\n",
       "        253, 253, 253, 253, 251,  93,  82,  82,  56,  39,   0,   0,   0,\n",
       "          0,   0],\n",
       "       [  0,   0,   0,   0,   0,   0,   0,  18, 219, 253, 253, 253, 253,\n",
       "        253, 198, 182, 247, 241,   0,   0,   0,   0,   0,   0,   0,   0,\n",
       "          0,   0],\n",
       "       [  0,   0,   0,   0,   0,   0,   0,   0,  80, 156, 107, 253, 253,\n",
       "        205,  11,   0,  43, 154,   0,   0,   0,   0,   0,   0,   0,   0,\n",
       "          0,   0],\n",
       "       [  0,   0,   0,   0,   0,   0,   0,   0,   0,  14,   1, 154, 253,\n",
       "         90,   0,   0,   0,   0,   0,   0,   0,   0,   0,   0,   0,   0,\n",
       "          0,   0],\n",
       "       [  0,   0,   0,   0,   0,   0,   0,   0,   0,   0,   0, 139, 253,\n",
       "        190,   2,   0,   0,   0,   0,   0,   0,   0,   0,   0,   0,   0,\n",
       "          0,   0],\n",
       "       [  0,   0,   0,   0,   0,   0,   0,   0,   0,   0,   0,  11, 190,\n",
       "        253,  70,   0,   0,   0,   0,   0,   0,   0,   0,   0,   0,   0,\n",
       "          0,   0],\n",
       "       [  0,   0,   0,   0,   0,   0,   0,   0,   0,   0,   0,   0,  35,\n",
       "        241, 225, 160, 108,   1,   0,   0,   0,   0,   0,   0,   0,   0,\n",
       "          0,   0],\n",
       "       [  0,   0,   0,   0,   0,   0,   0,   0,   0,   0,   0,   0,   0,\n",
       "         81, 240, 253, 253, 119,  25,   0,   0,   0,   0,   0,   0,   0,\n",
       "          0,   0],\n",
       "       [  0,   0,   0,   0,   0,   0,   0,   0,   0,   0,   0,   0,   0,\n",
       "          0,  45, 186, 253, 253, 150,  27,   0,   0,   0,   0,   0,   0,\n",
       "          0,   0],\n",
       "       [  0,   0,   0,   0,   0,   0,   0,   0,   0,   0,   0,   0,   0,\n",
       "          0,   0,  16,  93, 252, 253, 187,   0,   0,   0,   0,   0,   0,\n",
       "          0,   0],\n",
       "       [  0,   0,   0,   0,   0,   0,   0,   0,   0,   0,   0,   0,   0,\n",
       "          0,   0,   0,   0, 249, 253, 249,  64,   0,   0,   0,   0,   0,\n",
       "          0,   0],\n",
       "       [  0,   0,   0,   0,   0,   0,   0,   0,   0,   0,   0,   0,   0,\n",
       "          0,  46, 130, 183, 253, 253, 207,   2,   0,   0,   0,   0,   0,\n",
       "          0,   0],\n",
       "       [  0,   0,   0,   0,   0,   0,   0,   0,   0,   0,   0,   0,  39,\n",
       "        148, 229, 253, 253, 253, 250, 182,   0,   0,   0,   0,   0,   0,\n",
       "          0,   0],\n",
       "       [  0,   0,   0,   0,   0,   0,   0,   0,   0,   0,  24, 114, 221,\n",
       "        253, 253, 253, 253, 201,  78,   0,   0,   0,   0,   0,   0,   0,\n",
       "          0,   0],\n",
       "       [  0,   0,   0,   0,   0,   0,   0,   0,  23,  66, 213, 253, 253,\n",
       "        253, 253, 198,  81,   2,   0,   0,   0,   0,   0,   0,   0,   0,\n",
       "          0,   0],\n",
       "       [  0,   0,   0,   0,   0,   0,  18, 171, 219, 253, 253, 253, 253,\n",
       "        195,  80,   9,   0,   0,   0,   0,   0,   0,   0,   0,   0,   0,\n",
       "          0,   0],\n",
       "       [  0,   0,   0,   0,  55, 172, 226, 253, 253, 253, 253, 244, 133,\n",
       "         11,   0,   0,   0,   0,   0,   0,   0,   0,   0,   0,   0,   0,\n",
       "          0,   0],\n",
       "       [  0,   0,   0,   0, 136, 253, 253, 253, 212, 135, 132,  16,   0,\n",
       "          0,   0,   0,   0,   0,   0,   0,   0,   0,   0,   0,   0,   0,\n",
       "          0,   0],\n",
       "       [  0,   0,   0,   0,   0,   0,   0,   0,   0,   0,   0,   0,   0,\n",
       "          0,   0,   0,   0,   0,   0,   0,   0,   0,   0,   0,   0,   0,\n",
       "          0,   0],\n",
       "       [  0,   0,   0,   0,   0,   0,   0,   0,   0,   0,   0,   0,   0,\n",
       "          0,   0,   0,   0,   0,   0,   0,   0,   0,   0,   0,   0,   0,\n",
       "          0,   0],\n",
       "       [  0,   0,   0,   0,   0,   0,   0,   0,   0,   0,   0,   0,   0,\n",
       "          0,   0,   0,   0,   0,   0,   0,   0,   0,   0,   0,   0,   0,\n",
       "          0,   0]], dtype=uint8)"
      ]
     },
     "execution_count": 122,
     "metadata": {},
     "output_type": "execute_result"
    }
   ],
   "source": [
    "train_images[0] # the first image"
   ]
  },
  {
   "cell_type": "code",
   "execution_count": 123,
   "metadata": {
    "id": "lyZz9nSj9gLF",
    "outputId": "2d4afce9-851f-4d4d-f7c7-c21785dbf018"
   },
   "outputs": [
    {
     "data": {
      "text/plain": [
       "(28, 28)"
      ]
     },
     "execution_count": 123,
     "metadata": {},
     "output_type": "execute_result"
    }
   ],
   "source": [
    "train_images[0].shape  # the shape of the first image"
   ]
  },
  {
   "cell_type": "code",
   "execution_count": 124,
   "metadata": {
    "id": "Xhnk_quh9gLG",
    "outputId": "c3fc6cf3-205a-4523-82d7-98036d9673e7"
   },
   "outputs": [
    {
     "data": {
      "text/plain": [
       "60000"
      ]
     },
     "execution_count": 124,
     "metadata": {},
     "output_type": "execute_result"
    }
   ],
   "source": [
    "len(train_labels)"
   ]
  },
  {
   "cell_type": "code",
   "execution_count": 125,
   "metadata": {
    "id": "_6xoZQFV9gLG",
    "outputId": "34e1c3cd-7737-43af-a03f-75d911b8f49c"
   },
   "outputs": [
    {
     "data": {
      "text/plain": [
       "array([5, 0, 4, 1, 9, 2], dtype=uint8)"
      ]
     },
     "execution_count": 125,
     "metadata": {},
     "output_type": "execute_result"
    }
   ],
   "source": [
    "train_labels[:6] # first 5 labels"
   ]
  },
  {
   "cell_type": "markdown",
   "metadata": {
    "id": "MBwEurLo9gLG"
   },
   "source": [
    "Let's have a look at the test data:"
   ]
  },
  {
   "cell_type": "code",
   "execution_count": 126,
   "metadata": {
    "id": "oCDkklDh9gLG",
    "outputId": "8c93436a-544f-4a8c-d3b2-b532f4e1bea0"
   },
   "outputs": [
    {
     "data": {
      "text/plain": [
       "(10000, 28, 28)"
      ]
     },
     "execution_count": 126,
     "metadata": {},
     "output_type": "execute_result"
    }
   ],
   "source": [
    "test_images.shape"
   ]
  },
  {
   "cell_type": "code",
   "execution_count": 127,
   "metadata": {
    "id": "SUDcU5Pm9gLH",
    "outputId": "a9620947-39dc-44f2-bf98-c43d08ce5dc0"
   },
   "outputs": [
    {
     "data": {
      "text/plain": [
       "10000"
      ]
     },
     "execution_count": 127,
     "metadata": {},
     "output_type": "execute_result"
    }
   ],
   "source": [
    "len(test_labels)"
   ]
  },
  {
   "cell_type": "code",
   "execution_count": 128,
   "metadata": {
    "id": "qPONQs6r9gLH",
    "outputId": "187dbb5c-1a88-479e-d6cd-00764f5763e5"
   },
   "outputs": [
    {
     "data": {
      "text/plain": [
       "array([7, 2, 1, ..., 4, 5, 6], dtype=uint8)"
      ]
     },
     "execution_count": 128,
     "metadata": {},
     "output_type": "execute_result"
    }
   ],
   "source": [
    "test_labels"
   ]
  },
  {
   "cell_type": "markdown",
   "metadata": {
    "id": "romZJrKB9gLH"
   },
   "source": [
    "\n",
    "Before training, we will preprocess our data by reshaping it into the shape that the network expects, and scaling it so that all values are in\n",
    "the `[0, 1]` interval. Previously, our training images for instance were stored in an array of shape `(60000, 28, 28)` of type `uint8` with\n",
    "values in the `[0, 255]` interval. We transform it into a `float32` array of shape `(60000, 28 * 28)` with values between 0 and 1."
   ]
  },
  {
   "cell_type": "code",
   "execution_count": 129,
   "metadata": {
    "id": "oSsUxCVJ9gLH"
   },
   "outputs": [],
   "source": [
    "train_images = train_images.astype('float32') / 255\n",
    "train_images = train_images.reshape((60000, 28 * 28))\n",
    "\n",
    "test_images = test_images.astype('float32') / 255\n",
    "test_images = test_images.reshape((10000, 28 * 28))"
   ]
  },
  {
   "cell_type": "markdown",
   "metadata": {
    "id": "_mLxIiNS9gLH"
   },
   "source": [
    "### Reshaping an image for the network\n",
    "\n",
    "The picture below shows the steps involved in converting a 10x10 pixel image into a 1 dimensional array that can be fed into a fully-connected neural network (assuming we do not scale the pixel values).\n",
    "\n",
    "<img src=\"Lab 1 - Pictures-2.jpg\" width=600 align=\"center\">\n",
    "\n",
    "And the picture below should help you visualize what things look like when we consider more than a single sample in our data:\n",
    "\n",
    "<img src=\"Lab 1 - Pictures-3.jpg\" width=600 align=\"center\">"
   ]
  },
  {
   "cell_type": "markdown",
   "metadata": {
    "id": "5GmCNX5N9gLH"
   },
   "source": [
    "We also need to categorically encode the labels:"
   ]
  },
  {
   "cell_type": "code",
   "execution_count": 130,
   "metadata": {
    "id": "vMH8rHMz9gLH"
   },
   "outputs": [],
   "source": [
    "from tensorflow.keras.utils import to_categorical\n",
    "\n",
    "train_labels = to_categorical(train_labels)\n",
    "test_labels = to_categorical(test_labels)"
   ]
  },
  {
   "cell_type": "code",
   "execution_count": 131,
   "metadata": {
    "id": "pUDeTSmk9gLH",
    "outputId": "f1afdda6-6aa0-4779-a367-34449cd02ac6"
   },
   "outputs": [
    {
     "data": {
      "text/plain": [
       "array([[0., 0., 0., 0., 0., 1., 0., 0., 0., 0.],\n",
       "       [1., 0., 0., 0., 0., 0., 0., 0., 0., 0.],\n",
       "       [0., 0., 0., 0., 1., 0., 0., 0., 0., 0.],\n",
       "       [0., 1., 0., 0., 0., 0., 0., 0., 0., 0.],\n",
       "       [0., 0., 0., 0., 0., 0., 0., 0., 0., 1.]], dtype=float32)"
      ]
     },
     "execution_count": 131,
     "metadata": {},
     "output_type": "execute_result"
    }
   ],
   "source": [
    "train_labels[:5]"
   ]
  },
  {
   "cell_type": "markdown",
   "metadata": {
    "id": "uQRQ4slO9gLI"
   },
   "source": [
    "<img src=\"Lab 1 - Pictures-5.jpg\" width=600 align=\"center\">"
   ]
  },
  {
   "cell_type": "markdown",
   "metadata": {
    "id": "Uwnpsauo9gLI"
   },
   "source": [
    "Our workflow will be as follow: first we will present our neural network with the training data: `train_images` and `train_labels`. The\n",
    "network will then learn to associate images and labels. Finally, we will ask the network to produce predictions for `test_images`, and we\n",
    "will verify if these predictions match the labels from `test_labels`.\n",
    "\n",
    "## Build the network\n",
    "\n",
    "Let's build our network!"
   ]
  },
  {
   "cell_type": "code",
   "execution_count": 132,
   "metadata": {
    "id": "YimnjWKP9gLI"
   },
   "outputs": [],
   "source": [
    "from tensorflow.keras.models import Sequential\n",
    "from tensorflow.keras.layers import Dense\n",
    "\n",
    "network = Sequential()\n",
    "network.add(Dense(512, activation='relu', input_shape=(28 * 28,)))\n",
    "network.add(Dense(10, activation='softmax'))"
   ]
  },
  {
   "cell_type": "markdown",
   "metadata": {
    "id": "240Kd4Mi9gLI"
   },
   "source": [
    "The core building block of neural networks is the \"layer\", a data-processing module which you can conceive as a \"filter\" for data. Some data comes in, and comes out in a more useful form. Precisely, layers extract _representations_ out of the data fed into them -- hopefully representations that are more meaningful for the problem at hand. Most of deep learning really consists of chaining together simple layers which will implement a form of progressive \"data distillation\". A deep learning model is like a sieve for data processing, made of a\n",
    "succession of increasingly refined data filters -- the \"layers\".\n",
    "\n",
    "Here our network consists of a sequence of two `Dense` layers, which are densely-connected (also called \"fully-connected\") neural layers. The second (and last) layer is a 10-way \"softmax\" layer, which means it will return an array of 10 probability scores (summing to 1). Each score will be the probability that the current digit image belongs to one of our 10 digit classes. See this [blog post](https://victorzhou.com/blog/softmax/) for more details on the softmax function. The following picture may help you see what is happening:\n",
    "\n",
    "<img src=\"Lab 1 - Pictures-4.jpg\" width=600 align=\"center\">"
   ]
  },
  {
   "cell_type": "markdown",
   "metadata": {
    "id": "4G78FKGl9gLI"
   },
   "source": [
    "## Network architecture and parameters\n",
    "It is often helpful to review the architecture of the network and see how many parameters will need to be learned through the training process. To do this, Keras provides the `.summary()` function:"
   ]
  },
  {
   "cell_type": "code",
   "execution_count": 133,
   "metadata": {
    "id": "nfouUE-J9gLI",
    "outputId": "72a390d6-74dc-46c5-bbf3-91d3214431f7"
   },
   "outputs": [
    {
     "name": "stdout",
     "output_type": "stream",
     "text": [
      "Model: \"sequential_47\"\n",
      "_________________________________________________________________\n",
      " Layer (type)                Output Shape              Param #   \n",
      "=================================================================\n",
      " dense_107 (Dense)           (None, 512)               401920    \n",
      "                                                                 \n",
      " dense_108 (Dense)           (None, 10)                5130      \n",
      "                                                                 \n",
      "=================================================================\n",
      "Total params: 407050 (1.55 MB)\n",
      "Trainable params: 407050 (1.55 MB)\n",
      "Non-trainable params: 0 (0.00 Byte)\n",
      "_________________________________________________________________\n"
     ]
    }
   ],
   "source": [
    "network.summary()"
   ]
  },
  {
   "cell_type": "markdown",
   "metadata": {
    "id": "7lh3w8AR9gLI"
   },
   "source": [
    "## Compile the network\n",
    "To make our network ready for training, we need to pick three more things, as part of \"compilation\" step:\n",
    "\n",
    "* A loss function: this is how the network will be able to measure how good a job it is doing on its training data, and thus how it will be able to steer itself in the right direction.\n",
    "* An optimizer: this is the mechanism through which the network will update its parameters (weights and biases) based on the data it sees and its loss function. This is like the *gradient descent* recipe for updating the network's parameters.\n",
    "* Metrics: what to monitor during training and testing. Here we will only care about accuracy (the fraction of the images that were correctly classified)."
   ]
  },
  {
   "cell_type": "code",
   "execution_count": 134,
   "metadata": {
    "id": "cj07MyKT9gLI"
   },
   "outputs": [],
   "source": [
    "network.compile(optimizer='rmsprop',\n",
    "                loss='categorical_crossentropy',\n",
    "                metrics=['accuracy'])"
   ]
  },
  {
   "cell_type": "markdown",
   "metadata": {
    "id": "mPOCSa319gLI"
   },
   "source": [
    "We are now ready to train our network, which in Keras is done via a call to the `fit` method of the network:\n",
    "we \"fit\" the model to its training data."
   ]
  },
  {
   "cell_type": "markdown",
   "metadata": {
    "id": "18vyNpl59gLI"
   },
   "source": [
    "## Train the network"
   ]
  },
  {
   "cell_type": "code",
   "execution_count": 135,
   "metadata": {
    "id": "DnEyaaZV9gLI",
    "outputId": "bf95ad71-1e6f-453c-d734-0de7732cb120"
   },
   "outputs": [
    {
     "name": "stdout",
     "output_type": "stream",
     "text": [
      "Epoch 1/5\n",
      "469/469 [==============================] - 5s 10ms/step - loss: 0.2610 - accuracy: 0.9248\n",
      "Epoch 2/5\n",
      "469/469 [==============================] - 4s 9ms/step - loss: 0.1054 - accuracy: 0.9688\n",
      "Epoch 3/5\n",
      "469/469 [==============================] - 4s 9ms/step - loss: 0.0692 - accuracy: 0.9792\n",
      "Epoch 4/5\n",
      "469/469 [==============================] - 5s 10ms/step - loss: 0.0506 - accuracy: 0.9848\n",
      "Epoch 5/5\n",
      "469/469 [==============================] - 5s 10ms/step - loss: 0.0373 - accuracy: 0.9890\n"
     ]
    }
   ],
   "source": [
    "history = network.fit(train_images, train_labels, epochs=5, batch_size=128, verbose=1)"
   ]
  },
  {
   "cell_type": "markdown",
   "metadata": {
    "id": "yI4CVb0D9gLI"
   },
   "source": [
    "Two quantities are being displayed during training: the \"loss\" of the network over the training data, and the accuracy of the network over\n",
    "the training data.\n",
    "\n",
    "We quickly reach an accuracy of around 0.98 (i.e. 98%) on the training data."
   ]
  },
  {
   "cell_type": "markdown",
   "metadata": {
    "id": "DMkz4Ak29gLI"
   },
   "source": [
    "## Check test accuracy\n",
    "\n",
    "Now let's check that our model performs well on the test set too:"
   ]
  },
  {
   "cell_type": "code",
   "execution_count": 136,
   "metadata": {
    "id": "idThFmD69gLJ",
    "outputId": "a0f906ec-d497-4376-debf-4f367cf00d29"
   },
   "outputs": [
    {
     "name": "stdout",
     "output_type": "stream",
     "text": [
      "313/313 [==============================] - 1s 3ms/step - loss: 0.0681 - accuracy: 0.9794\n"
     ]
    }
   ],
   "source": [
    "test_loss, test_acc = network.evaluate(test_images, test_labels)"
   ]
  },
  {
   "cell_type": "code",
   "execution_count": 137,
   "metadata": {
    "id": "Ln7bCBxv9gLJ",
    "outputId": "5e4acea3-3668-4173-bbe0-05945503322b"
   },
   "outputs": [
    {
     "name": "stdout",
     "output_type": "stream",
     "text": [
      "test_acc: 0.9793999791145325\n"
     ]
    }
   ],
   "source": [
    "print('test_acc:', test_acc)"
   ]
  },
  {
   "cell_type": "markdown",
   "metadata": {
    "id": "fSohQhQs9gLJ"
   },
   "source": [
    "\n",
    "Our test set accuracy turns out to be around 98%, which is lower than the training set accuracy.\n",
    "\n",
    "This concludes our very first example -- you just saw how we could build and train a neural network to classify handwritten digits, in less than 20 lines of Python code."
   ]
  },
  {
   "cell_type": "markdown",
   "metadata": {
    "id": "5uZZu6Yo9gLJ"
   },
   "source": [
    "**epoch**\n",
    "  - one epoch is reached when all training examples have been sent through the network\n",
    "  \n",
    "**batch size**\n",
    "  - the training data is not sent through the network one sample at time but in batches; this is another hyperparamter to be set. The weights and biases are updated after each batch is processed by the network. In this example the batch size was set to 128\n"
   ]
  },
  {
   "cell_type": "markdown",
   "metadata": {
    "id": "-essVG--9gLK"
   },
   "source": [
    "## Your turn\n",
    "\n",
    "Rerunning the network means executing the following steps:\n",
    "- Build the network\n",
    "- Network architecure and parameters\n",
    "- Compile the network\n",
    "- Train the network\n",
    "- Check test accuracy\n",
    "\n",
    "**Each exercise will thus have all the necessary code to build, compile, fit, and test.**\n",
    "\n",
    "## Starting Code\n",
    "\n",
    "Begin with the following code for Exercises 1 to 5, that is, the code below is what you are being asked to modify in the first five exercises:\n",
    "\n",
    "```\n",
    "network = Sequential()\n",
    "network.add(Dense(512, activation='relu', input_shape=(28 * 28,)))\n",
    "network.add(Dense(10, activation='softmax'))\n",
    "\n",
    "network.summary()\n",
    "\n",
    "network.compile(optimizer='rmsprop',\n",
    "                loss='categorical_crossentropy',\n",
    "                metrics=['accuracy'])\n",
    "                \n",
    "network.fit(train_images, train_labels, epochs=5, batch_size=128, verbose=1)\n",
    "\n",
    "test_loss, test_acc = network.evaluate(test_images, test_labels)\n",
    "print('test_acc:', test_acc)\n",
    "```\n",
    "\n",
    "Be sure to rename the `network` for each Exercise."
   ]
  },
  {
   "cell_type": "markdown",
   "metadata": {
    "id": "GbrPEYjf9gLK"
   },
   "source": [
    "## Your turn\n",
    "\n",
    "Rerunning the network means executing the following steps:\n",
    "- Build the network\n",
    "- Compile the network\n",
    "- Fit the data\n",
    "- Check test accuracy\n",
    "\n",
    "Before you begin, make a copy of the `network` in the *Build the network* section so you can remember the structure and parameters for the original network.\n",
    "\n",
    "### **Exercise 1-6 (15 Marks) (2.5 Marks each)**\n",
    "\n",
    "### Exercise 1\n",
    "\n",
    "- change the activation in the hidden layer to 'sigmoid'\n",
    "- rerun the network\n",
    "- what is the new value for the training accuracy?\n",
    "- what is the new value for the test accuracy?"
   ]
  },
  {
   "cell_type": "code",
   "execution_count": 138,
   "metadata": {
    "id": "0DFqWTi69gLK",
    "outputId": "ed788f0f-5f31-488c-f9b8-6a6440d2e872"
   },
   "outputs": [
    {
     "name": "stdout",
     "output_type": "stream",
     "text": [
      "Model: \"sequential_48\"\n",
      "_________________________________________________________________\n",
      " Layer (type)                Output Shape              Param #   \n",
      "=================================================================\n",
      " dense_109 (Dense)           (None, 512)               401920    \n",
      "                                                                 \n",
      " dense_110 (Dense)           (None, 10)                5130      \n",
      "                                                                 \n",
      "=================================================================\n",
      "Total params: 407050 (1.55 MB)\n",
      "Trainable params: 407050 (1.55 MB)\n",
      "Non-trainable params: 0 (0.00 Byte)\n",
      "_________________________________________________________________\n",
      "Epoch 1/5\n",
      "469/469 [==============================] - 5s 10ms/step - loss: 0.4631 - accuracy: 0.8759\n",
      "Epoch 2/5\n",
      "469/469 [==============================] - 4s 10ms/step - loss: 0.2690 - accuracy: 0.9220\n",
      "Epoch 3/5\n",
      "469/469 [==============================] - 4s 10ms/step - loss: 0.2162 - accuracy: 0.9376\n",
      "Epoch 4/5\n",
      "469/469 [==============================] - 4s 10ms/step - loss: 0.1766 - accuracy: 0.9486\n",
      "Epoch 5/5\n",
      "469/469 [==============================] - 4s 9ms/step - loss: 0.1469 - accuracy: 0.9577\n",
      "313/313 [==============================] - 1s 4ms/step - loss: 0.1363 - accuracy: 0.9584\n",
      "test_acc: 0.9584000110626221\n"
     ]
    }
   ],
   "source": [
    "sequential_1 = Sequential()\n",
    "sequential_1.add(Dense(512, activation='sigmoid', input_shape=(28 * 28,)))\n",
    "sequential_1.add(Dense(10, activation='softmax'))\n",
    "\n",
    "sequential_1.summary()\n",
    "\n",
    "sequential_1.compile(optimizer='rmsprop',\n",
    "                loss='categorical_crossentropy',\n",
    "                metrics=['accuracy'])\n",
    "\n",
    "sequential_1.fit(train_images, train_labels, epochs=5, batch_size=128, verbose=1)\n",
    "\n",
    "test_loss, test_acc = sequential_1.evaluate(test_images, test_labels)\n",
    "print('test_acc:', test_acc)"
   ]
  },
  {
   "cell_type": "markdown",
   "metadata": {
    "id": "8A0mC-lw9gLK"
   },
   "source": [
    "### Exercise 2\n",
    "\n",
    "- change the activation in the hidden layer back to 'relu'\n",
    "- change the batch size to 32\n",
    "- rerun the network\n",
    "- what is the new value for the training accuracy?\n",
    "- what is the new value for the test accuracy?\n",
    "- was the speed effected?"
   ]
  },
  {
   "cell_type": "code",
   "execution_count": 139,
   "metadata": {
    "id": "lp6wzl769gLK",
    "outputId": "7d95f0f8-587e-4d44-bc8d-ac245e593a7a"
   },
   "outputs": [
    {
     "name": "stdout",
     "output_type": "stream",
     "text": [
      "Model: \"sequential_49\"\n",
      "_________________________________________________________________\n",
      " Layer (type)                Output Shape              Param #   \n",
      "=================================================================\n",
      " dense_111 (Dense)           (None, 512)               401920    \n",
      "                                                                 \n",
      " dense_112 (Dense)           (None, 10)                5130      \n",
      "                                                                 \n",
      "=================================================================\n",
      "Total params: 407050 (1.55 MB)\n",
      "Trainable params: 407050 (1.55 MB)\n",
      "Non-trainable params: 0 (0.00 Byte)\n",
      "_________________________________________________________________\n",
      "Epoch 1/5\n",
      "1875/1875 [==============================] - 17s 9ms/step - loss: 0.2023 - accuracy: 0.9396\n",
      "Epoch 2/5\n",
      "1875/1875 [==============================] - 16s 8ms/step - loss: 0.0876 - accuracy: 0.9740\n",
      "Epoch 3/5\n",
      "1875/1875 [==============================] - 15s 8ms/step - loss: 0.0606 - accuracy: 0.9820\n",
      "Epoch 4/5\n",
      "1875/1875 [==============================] - 15s 8ms/step - loss: 0.0458 - accuracy: 0.9859\n",
      "Epoch 5/5\n",
      "1875/1875 [==============================] - 15s 8ms/step - loss: 0.0347 - accuracy: 0.9898\n",
      "313/313 [==============================] - 1s 4ms/step - loss: 0.0776 - accuracy: 0.9806\n",
      "test_acc: 0.9805999994277954\n"
     ]
    }
   ],
   "source": [
    "sequential_2 = Sequential()\n",
    "sequential_2.add(Dense(512, activation='relu', input_shape=(28 * 28,)))\n",
    "sequential_2.add(Dense(10, activation='softmax'))\n",
    "\n",
    "sequential_2.summary()\n",
    "\n",
    "sequential_2.compile(optimizer='rmsprop',\n",
    "                loss='categorical_crossentropy',\n",
    "                metrics=['accuracy'])\n",
    "\n",
    "sequential_2.fit(train_images, train_labels, epochs=5, batch_size=32, verbose=1)\n",
    "\n",
    "test_loss, test_acc = sequential_2.evaluate(test_images, test_labels)\n",
    "print('test_acc:', test_acc)"
   ]
  },
  {
   "cell_type": "markdown",
   "metadata": {
    "id": "5IIBsGT89gLK"
   },
   "source": [
    "### Exercise 3\n",
    "\n",
    "- change the number of epochs to 10\n",
    "- rerun the network\n",
    "- what is the new value for the training accuracy?\n",
    "- what is the new value for the test accuracy?"
   ]
  },
  {
   "cell_type": "code",
   "execution_count": 140,
   "metadata": {
    "id": "JuRkQWaS9gLK",
    "outputId": "d238b585-9d2c-4970-b2ba-7c314f22c13b"
   },
   "outputs": [
    {
     "name": "stdout",
     "output_type": "stream",
     "text": [
      "Model: \"sequential_50\"\n",
      "_________________________________________________________________\n",
      " Layer (type)                Output Shape              Param #   \n",
      "=================================================================\n",
      " dense_113 (Dense)           (None, 512)               401920    \n",
      "                                                                 \n",
      " dense_114 (Dense)           (None, 10)                5130      \n",
      "                                                                 \n",
      "=================================================================\n",
      "Total params: 407050 (1.55 MB)\n",
      "Trainable params: 407050 (1.55 MB)\n",
      "Non-trainable params: 0 (0.00 Byte)\n",
      "_________________________________________________________________\n",
      "Epoch 1/10\n",
      "469/469 [==============================] - 5s 9ms/step - loss: 0.2630 - accuracy: 0.9239\n",
      "Epoch 2/10\n",
      "469/469 [==============================] - 4s 9ms/step - loss: 0.1073 - accuracy: 0.9686\n",
      "Epoch 3/10\n",
      "469/469 [==============================] - 4s 9ms/step - loss: 0.0709 - accuracy: 0.9791\n",
      "Epoch 4/10\n",
      "469/469 [==============================] - 4s 9ms/step - loss: 0.0515 - accuracy: 0.9844\n",
      "Epoch 5/10\n",
      "469/469 [==============================] - 5s 10ms/step - loss: 0.0375 - accuracy: 0.9887\n",
      "Epoch 6/10\n",
      "469/469 [==============================] - 4s 9ms/step - loss: 0.0295 - accuracy: 0.9913\n",
      "Epoch 7/10\n",
      "469/469 [==============================] - 4s 9ms/step - loss: 0.0221 - accuracy: 0.9937\n",
      "Epoch 8/10\n",
      "469/469 [==============================] - 4s 9ms/step - loss: 0.0168 - accuracy: 0.9955\n",
      "Epoch 9/10\n",
      "469/469 [==============================] - 4s 9ms/step - loss: 0.0127 - accuracy: 0.9966\n",
      "Epoch 10/10\n",
      "469/469 [==============================] - 4s 9ms/step - loss: 0.0101 - accuracy: 0.9974\n",
      "313/313 [==============================] - 1s 4ms/step - loss: 0.0662 - accuracy: 0.9813\n",
      "test_acc: 0.9812999963760376\n"
     ]
    }
   ],
   "source": [
    "sequential_3 = Sequential()\n",
    "sequential_3.add(Dense(512, activation='relu', input_shape=(28 * 28,)))\n",
    "sequential_3.add(Dense(10, activation='softmax'))\n",
    "\n",
    "sequential_3.summary()\n",
    "\n",
    "sequential_3.compile(optimizer='rmsprop',\n",
    "                loss='categorical_crossentropy',\n",
    "                metrics=['accuracy'])\n",
    "\n",
    "sequential_3.fit(train_images, train_labels, epochs=10, batch_size=128, verbose=1)\n",
    "\n",
    "test_loss, test_acc = sequential_3.evaluate(test_images, test_labels)\n",
    "print('test_acc:', test_acc)"
   ]
  },
  {
   "cell_type": "markdown",
   "metadata": {
    "id": "3jaJqS4A9gLK"
   },
   "source": [
    "### Exercise 4\n",
    "\n",
    "- change the number of neurons in the hidden layer to 128\n",
    "- rerun the network\n",
    "- what is the new value for the training accuracy?\n",
    "- what is the new value for the test accuracy?"
   ]
  },
  {
   "cell_type": "code",
   "execution_count": 141,
   "metadata": {
    "id": "8n7VZLXO9gLK",
    "outputId": "74c81385-8fb5-47a5-b921-510710a0a508"
   },
   "outputs": [
    {
     "name": "stdout",
     "output_type": "stream",
     "text": [
      "Model: \"sequential_51\"\n",
      "_________________________________________________________________\n",
      " Layer (type)                Output Shape              Param #   \n",
      "=================================================================\n",
      " dense_115 (Dense)           (None, 128)               100480    \n",
      "                                                                 \n",
      " dense_116 (Dense)           (None, 10)                1290      \n",
      "                                                                 \n",
      "=================================================================\n",
      "Total params: 101770 (397.54 KB)\n",
      "Trainable params: 101770 (397.54 KB)\n",
      "Non-trainable params: 0 (0.00 Byte)\n",
      "_________________________________________________________________\n",
      "Epoch 1/5\n",
      "469/469 [==============================] - 2s 4ms/step - loss: 0.3417 - accuracy: 0.9072\n",
      "Epoch 2/5\n",
      "469/469 [==============================] - 2s 4ms/step - loss: 0.1648 - accuracy: 0.9530\n",
      "Epoch 3/5\n",
      "469/469 [==============================] - 2s 4ms/step - loss: 0.1168 - accuracy: 0.9661\n",
      "Epoch 4/5\n",
      "469/469 [==============================] - 2s 4ms/step - loss: 0.0905 - accuracy: 0.9740\n",
      "Epoch 5/5\n",
      "469/469 [==============================] - 2s 4ms/step - loss: 0.0747 - accuracy: 0.9781\n",
      "313/313 [==============================] - 1s 2ms/step - loss: 0.0857 - accuracy: 0.9724\n",
      "test_acc: 0.9724000096321106\n"
     ]
    }
   ],
   "source": [
    "sequential_4 = Sequential()\n",
    "sequential_4.add(Dense(128, activation='relu', input_shape=(28 * 28,)))\n",
    "sequential_4.add(Dense(10, activation='softmax'))\n",
    "\n",
    "sequential_4.summary()\n",
    "\n",
    "sequential_4.compile(optimizer='rmsprop',\n",
    "                loss='categorical_crossentropy',\n",
    "                metrics=['accuracy'])\n",
    "\n",
    "sequential_4.fit(train_images, train_labels, epochs=5, batch_size=128, verbose=1)\n",
    "\n",
    "test_loss, test_acc = sequential_4.evaluate(test_images, test_labels)\n",
    "print('test_acc:', test_acc)"
   ]
  },
  {
   "cell_type": "markdown",
   "metadata": {
    "id": "apa9fRnM9gLL"
   },
   "source": [
    "### Exercise 5\n",
    "\n",
    "- to the original network, add a second hidden layer of 128 neurons (note that `input_shape` does note need to be set for a second *Dense* layer)\n",
    "- rerun the network\n",
    "- what is the new value for the training accuracy?\n",
    "- what is the new value for the test accuracy?"
   ]
  },
  {
   "cell_type": "code",
   "execution_count": 142,
   "metadata": {
    "id": "sEKK4e6I9gLL",
    "outputId": "cc3d4026-bf61-4357-987d-7b8368df08f5"
   },
   "outputs": [
    {
     "name": "stdout",
     "output_type": "stream",
     "text": [
      "Model: \"sequential_52\"\n",
      "_________________________________________________________________\n",
      " Layer (type)                Output Shape              Param #   \n",
      "=================================================================\n",
      " dense_117 (Dense)           (None, 512)               401920    \n",
      "                                                                 \n",
      " dense_118 (Dense)           (None, 128)               65664     \n",
      "                                                                 \n",
      " dense_119 (Dense)           (None, 10)                1290      \n",
      "                                                                 \n",
      "=================================================================\n",
      "Total params: 468874 (1.79 MB)\n",
      "Trainable params: 468874 (1.79 MB)\n",
      "Non-trainable params: 0 (0.00 Byte)\n",
      "_________________________________________________________________\n",
      "Epoch 1/5\n",
      "469/469 [==============================] - 8s 12ms/step - loss: 0.2439 - accuracy: 0.9278\n",
      "Epoch 2/5\n",
      "469/469 [==============================] - 6s 12ms/step - loss: 0.0897 - accuracy: 0.9725\n",
      "Epoch 3/5\n",
      "469/469 [==============================] - 6s 12ms/step - loss: 0.0574 - accuracy: 0.9825\n",
      "Epoch 4/5\n",
      "469/469 [==============================] - 6s 12ms/step - loss: 0.0398 - accuracy: 0.9872\n",
      "Epoch 5/5\n",
      "469/469 [==============================] - 6s 12ms/step - loss: 0.0290 - accuracy: 0.9908\n",
      "313/313 [==============================] - 2s 5ms/step - loss: 0.0795 - accuracy: 0.9788\n",
      "test_acc: 0.9787999987602234\n"
     ]
    }
   ],
   "source": [
    "sequential_5 = Sequential()\n",
    "sequential_5.add(Dense(512, activation='relu', input_shape=(28 * 28,)))\n",
    "sequential_5.add(Dense(128, activation='relu', input_shape=(28 * 28,)))\n",
    "sequential_5.add(Dense(10, activation='softmax'))\n",
    "\n",
    "sequential_5.summary()\n",
    "\n",
    "sequential_5.compile(optimizer='rmsprop',\n",
    "                loss='categorical_crossentropy',\n",
    "                metrics=['accuracy'])\n",
    "\n",
    "sequential_5.fit(train_images, train_labels, epochs=5, batch_size=128, verbose=1)\n",
    "\n",
    "test_loss, test_acc = sequential_5.evaluate(test_images, test_labels)\n",
    "print('test_acc:', test_acc)"
   ]
  },
  {
   "cell_type": "markdown",
   "metadata": {
    "id": "azOgAzee9gLL"
   },
   "source": [
    "### Exercise 6\n",
    "\n",
    "There is a good chance that the network from the previous exercise is overfitting. One way to manage overfitting in a network is to add a **dropout** layer. A dropout layer will randomly \"turn off\" (or *drop*) a fraction of the neurons in a layer. This makes it harder for the network to 'memorize' the training data.\n",
    "\n",
    "- add a dropout layer after the first hidden layer (see the [keras documentation](https://keras.io/layers/core/))\n",
    "- rerun the network\n",
    "- what is the new value for the training accuracy?\n",
    "- what is the new value for the test accuracy?"
   ]
  },
  {
   "cell_type": "code",
   "execution_count": 143,
   "metadata": {
    "id": "zMGhpkHA9gLL",
    "outputId": "16fd8e8b-db92-40ee-dc76-4a858c546123"
   },
   "outputs": [
    {
     "name": "stdout",
     "output_type": "stream",
     "text": [
      "Model: \"sequential_53\"\n",
      "_________________________________________________________________\n",
      " Layer (type)                Output Shape              Param #   \n",
      "=================================================================\n",
      " dense_120 (Dense)           (None, 512)               401920    \n",
      "                                                                 \n",
      " dropout_27 (Dropout)        (None, 512)               0         \n",
      "                                                                 \n",
      " dense_121 (Dense)           (None, 10)                5130      \n",
      "                                                                 \n",
      "=================================================================\n",
      "Total params: 407050 (1.55 MB)\n",
      "Trainable params: 407050 (1.55 MB)\n",
      "Non-trainable params: 0 (0.00 Byte)\n",
      "_________________________________________________________________\n",
      "Epoch 1/5\n",
      "469/469 [==============================] - 6s 12ms/step - loss: 0.3212 - accuracy: 0.9058\n",
      "Epoch 2/5\n",
      "469/469 [==============================] - 6s 12ms/step - loss: 0.1537 - accuracy: 0.9547\n",
      "Epoch 3/5\n",
      "469/469 [==============================] - 6s 12ms/step - loss: 0.1176 - accuracy: 0.9649\n",
      "Epoch 4/5\n",
      "469/469 [==============================] - 6s 12ms/step - loss: 0.0955 - accuracy: 0.9716\n",
      "Epoch 5/5\n",
      "469/469 [==============================] - 6s 12ms/step - loss: 0.0845 - accuracy: 0.9739\n",
      "313/313 [==============================] - 2s 4ms/step - loss: 0.0706 - accuracy: 0.9774\n",
      "test_acc: 0.977400004863739\n"
     ]
    }
   ],
   "source": [
    "sequential_6 = Sequential()\n",
    "sequential_6.add(Dense(512, activation='relu', input_shape=(28 * 28,)))\n",
    "sequential_6.add(Dropout(0.5))\n",
    "sequential_6.add(Dense(10, activation='softmax'))\n",
    "\n",
    "sequential_6.summary()\n",
    "\n",
    "sequential_6.compile(optimizer='rmsprop',\n",
    "                loss='categorical_crossentropy',\n",
    "                metrics=['accuracy'])\n",
    "\n",
    "sequential_6.fit(train_images, train_labels, epochs=5, batch_size=128, verbose=1)\n",
    "\n",
    "test_loss, test_acc = sequential_6.evaluate(test_images, test_labels)\n",
    "print('test_acc:', test_acc)"
   ]
  },
  {
   "cell_type": "markdown",
   "metadata": {
    "id": "b-HOSfjS-cya"
   },
   "source": [
    "### **Exercise 7 - CHALLENGE! (20 Marks)**\n",
    "\n",
    "**State of the art accuracy for the MNIST dataset is 99.84%.**\n",
    "\n",
    "How close can you get to this accuracy?\n",
    "\n",
    "Create a new fully-connected network. You can find information in the keras documentation. Things to try:\n",
    "* additional layers\n",
    "* number of neurons per layer\n",
    "* batch size\n",
    "* learning rate\n",
    "* activation functions\n",
    "* weight initializations\n",
    "* different optimizers\n",
    "* dropout layers\n",
    "\n",
    "\n",
    "This network should have at least 3 characteristics that are different from every other network submitted in this lab"
   ]
  },
  {
   "cell_type": "code",
   "execution_count": 176,
   "metadata": {},
   "outputs": [
    {
     "name": "stdout",
     "output_type": "stream",
     "text": [
      "Model: \"sequential_86\"\n",
      "_________________________________________________________________\n",
      " Layer (type)                Output Shape              Param #   \n",
      "=================================================================\n",
      " dense_218 (Dense)           (None, 500)               392500    \n",
      "                                                                 \n",
      " dense_219 (Dense)           (None, 100)               50100     \n",
      "                                                                 \n",
      " dropout_60 (Dropout)        (None, 100)               0         \n",
      "                                                                 \n",
      " dense_220 (Dense)           (None, 10)                1010      \n",
      "                                                                 \n",
      "=================================================================\n",
      "Total params: 443610 (1.69 MB)\n",
      "Trainable params: 443610 (1.69 MB)\n",
      "Non-trainable params: 0 (0.00 Byte)\n",
      "_________________________________________________________________\n",
      "Epoch 1/5\n",
      "1765/1765 [==============================] - 18s 10ms/step - loss: 0.2020 - accuracy: 0.9396\n",
      "Epoch 2/5\n",
      "1765/1765 [==============================] - 17s 10ms/step - loss: 0.0828 - accuracy: 0.9741\n",
      "Epoch 3/5\n",
      "1765/1765 [==============================] - 17s 10ms/step - loss: 0.0613 - accuracy: 0.9806\n",
      "Epoch 4/5\n",
      "1765/1765 [==============================] - 17s 10ms/step - loss: 0.0438 - accuracy: 0.9863\n",
      "Epoch 5/5\n",
      "1765/1765 [==============================] - 17s 9ms/step - loss: 0.0358 - accuracy: 0.9888\n",
      "313/313 [==============================] - 2s 5ms/step - loss: 0.0694 - accuracy: 0.9808\n",
      "test_acc: 0.9807999730110168\n"
     ]
    }
   ],
   "source": [
    "sequential_7 = Sequential()\n",
    "sequential_7.add(Dense(500, activation='relu', input_shape=(28 * 28,)))\n",
    "sequential_7.add(Dense(100, activation='tanh', input_shape=(500,), kernel_initializer=GlorotUniform()))\n",
    "sequential_7.add(Dropout(0.25))\n",
    "sequential_7.add(Dense(10, activation='softmax'))\n",
    "\n",
    "sequential_7.summary()\n",
    "\n",
    "sequential_7.compile(optimizer=Adam(learning_rate = 0.001),\n",
    "                loss='categorical_crossentropy',\n",
    "                metrics=['accuracy'])\n",
    "\n",
    "sequential_7.fit(train_images, train_labels, epochs=5, batch_size=34, verbose=1)\n",
    "\n",
    "test_loss, test_acc = sequential_7.evaluate(test_images, test_labels)\n",
    "print('test_acc:', test_acc)"
   ]
  },
  {
   "cell_type": "markdown",
   "metadata": {},
   "source": [
    "### Results of above exercises."
   ]
  },
  {
   "cell_type": "markdown",
   "metadata": {},
   "source": [
    "| Serial Number | Activation Method | Number of Layers | Epochs | Batch Size | Training Accuracy | Testing Accuracy |\n",
    "| :------------ | :----------------- | :-------------- | :----- | :--------- | :---------------- | :--------------- |\n",
    "| Exercise 1    | Sigmoid            | 2               | 5      | 128        | 95.77%            | 95.84%           |\n",
    "| Exercise 2    | Relu               | 2               | 5      | 32         | 98.98%            | 98.06%           |\n",
    "| Exercise 3    | Relu               | 2               | 10     | 128        | 99.74%            | 98.13%           |\n",
    "| Exercise 4    | Relu               | 3               | 5      | 128        | 97.81%            | 97.24%           |\n",
    "| Exercise 5    | Relu               | 3               | 5      | 128        | 99.08%            | 97.88%           |\n",
    "| Exercise 6    | Relu               | 3               | 5      | 128        | 97.39%            | 97.74%           |\n",
    "| Exercise 7    | Relu, tanh         | 4               | 5      | 34         | 98.99%            | 98.08%           |\n"
   ]
  }
 ],
 "metadata": {
  "colab": {
   "provenance": []
  },
  "kernelspec": {
   "display_name": "Python 3 (ipykernel)",
   "language": "python",
   "name": "python3"
  },
  "language_info": {
   "codemirror_mode": {
    "name": "ipython",
    "version": 3
   },
   "file_extension": ".py",
   "mimetype": "text/x-python",
   "name": "python",
   "nbconvert_exporter": "python",
   "pygments_lexer": "ipython3",
   "version": "3.9.13"
  }
 },
 "nbformat": 4,
 "nbformat_minor": 1
}
