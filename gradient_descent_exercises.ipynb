{
 "cells": [
  {
   "cell_type": "markdown",
   "metadata": {},
   "source": [
    "# Gradient Descent Exercises\n",
    "\n",
    "To complete these exercises, you will need to refer to the *gradient_descent.ipynb* file. It's simplest if you run the code in that notebook and then record your answers here."
   ]
  },
  {
   "cell_type": "markdown",
   "metadata": {},
   "source": [
    "## Stochastic Gradient Descent: A single sample\n",
    "### Exercises\n",
    "\n",
    " - For this problem we know the answer: $w = 2$ because that would make $\\hat{y} = wx = 2 \\cdot 2 = 4 = y$. Adjust  the number of iterations in the provided code for this section until you get this answer (note that the loss may print out as 0 before you reach the correct answer due to rounding). The loss here can be 0 because we have one sample and we can adjust the weight to get that exact answer; normally the loss won't be 0.\n",
    "     - How many iterations did it take?\n",
    "         - Answer:\n"
   ]
  },
  {
   "cell_type": "markdown",
   "metadata": {},
   "source": [
    " - Adjust the value of the learning rate `lr` to 0.00005 and rerun the code. \n",
    "     - How many iterations does it take now to get to the correct answer?\n",
    "         - Answer:"
   ]
  },
  {
   "cell_type": "markdown",
   "metadata": {},
   "source": [
    " - Adjust the value of the learning rate `lr` to 5 and rerun the code. \n",
    "     - What happened to the value of `w`?\n",
    "         - Answer:\n",
    "     - What happened to the value of `Loss`?\n",
    "         - Answer:"
   ]
  },
  {
   "cell_type": "markdown",
   "metadata": {},
   "source": [
    " - Starting from the original value `lr = 0.005` how big can you make it so that it still converges to the correct solution?\n",
    "     - What was your value of `lr`?\n",
    "         - Answer:\n",
    "     - How many iterations did it take to get to the solution?\n",
    "         - Answer:"
   ]
  },
  {
   "cell_type": "markdown",
   "metadata": {},
   "source": [
    "## Stochastic Gradient Descent: Multiple samples\n",
    "### Exercises\n",
    "\n",
    " - Adjust `n_epochs` until the loss stops decreasing. \n",
    "     - How many epochs did it take?\n",
    "         - Answer:\n",
    "     - What was the final value for `w`?\n",
    "         - Answer:"
   ]
  },
  {
   "cell_type": "markdown",
   "metadata": {},
   "source": [
    " - Adjust the value of the learning rate `lr`:\n",
    "     - what happens when you decrease it?\n",
    "         - Answer:\n",
    "     - What happens when you increase it?  \n",
    "         - Answer:\n",
    "     - Can you find a value for `lr` that breaks gradient descent, that is makes it so gradient descent does not find the correct value for `w`?\n",
    "         - Answer:"
   ]
  },
  {
   "cell_type": "markdown",
   "metadata": {},
   "source": [
    "## Compare with scikit-learn\n",
    "### Exercises\n",
    "\n",
    " - Adjust `lr` and `n_epochs` to get `w` from our gradient descent code to match the scikit-learn value as close as possible. \n",
    "     - What were the final values for `lr` and `n_epochs`?"
   ]
  },
  {
   "cell_type": "markdown",
   "metadata": {},
   "source": [
    "## Batch Gradient Descent\n",
    "### Exercises\n",
    "\n",
    " - Adjust `n_epochs` until the loss stops decreasing. \n",
    "     - How many epochs did it take?\n",
    "     - What was the final value for `w`?\n",
    " - Adjust the value of the learning rate `lr`:\n",
    "     - what happens when you decrease it?\n",
    "     - What happens when you increase it?  "
   ]
  }
 ],
 "metadata": {
  "kernelspec": {
   "display_name": "Python 3 (ipykernel)",
   "language": "python",
   "name": "python3"
  },
  "language_info": {
   "codemirror_mode": {
    "name": "ipython",
    "version": 3
   },
   "file_extension": ".py",
   "mimetype": "text/x-python",
   "name": "python",
   "nbconvert_exporter": "python",
   "pygments_lexer": "ipython3",
   "version": "3.9.13"
  }
 },
 "nbformat": 4,
 "nbformat_minor": 4
}
