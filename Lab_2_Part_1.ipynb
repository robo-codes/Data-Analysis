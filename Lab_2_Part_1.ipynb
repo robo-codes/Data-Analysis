{
 "cells": [
  {
   "cell_type": "markdown",
   "id": "77b9a642",
   "metadata": {
    "id": "77b9a642"
   },
   "source": [
    "# Lab 2 - Image preprocessing and using a fully connected neural network for image classification.\n",
    "\n",
    "This lab will be done in two parts\n",
    "\n",
    "\n",
    "> Indented block\n",
    "\n",
    "*   Part 1 - Task 1 - 4\n",
    "*   Part 2 - Task 5 & 6\n",
    "\n",
    "\n",
    "---\n",
    "\n",
    "In this lab, we will take our first steps toward running our code in the cloud. One of the simplest way to accomplish this is through Google's free (although, there is a paid Pro version) service, **Colab**.\n",
    "\n",
    "This lab has 3 main tasks:\n",
    "\n",
    "- **Task 1**: Get set up with Google Colab\n",
    "- **Task 2**: Get the neural network you created in **Lab 1: Exercise 7** running without error in Google Colab\n",
    "- **Task 3**: Preprocess images for use in Part 2 (20 Marks)\n",
    "- **Task 4** **Viva** - Question will be based on Week 1 & 2 (Lectures & Labs) (10)\n",
    "\n",
    "*** Viva will be conducted during Week 3 & 4 during yours Lab sessions**\n",
    "\n"
   ]
  },
  {
   "cell_type": "markdown",
   "id": "049e5f74",
   "metadata": {
    "id": "049e5f74"
   },
   "source": [
    "## Task 1\n",
    "\n",
    "To use **Colab**, you need to have a Google account. To get a free Google account, go the the [sign up](https://accounts.google.com/) and fill in the necessary information. If you already have a Google account, you can skip this step. (If you have a gmail address, then you already have a Google Account.)\n",
    "\n",
    "!\n",
    "\n",
    "Once you have an account, you will need to sign in. To do this, go to [google.com](https://google.com):\n",
    "\n",
    "<img src=\"images/google_signin.png\" width=600 align=\"center\">\n",
    "\n",
    "After you are signed in, navigate to [Google Colab](https://colab.research.google.com).\n",
    "\n",
    "<img src=\"images/colab_intro.png\" width=600 align=\"center\">\n",
    "\n",
    "From here, click on **New Notebook**, give the notebook a name and then **save** it. Now you should verify the folder structure in **Google Drive**. To do this, you should navigate back to [google.com](https://google.com), and select **Drive** from the menu at the top right:\n",
    "\n",
    "<img src=\"images/drive.png\" width=600 align=\"center\">\n",
    "\n",
    "Once you are in your Google Drive, you should have a folder structure identical to the following (the name you gave your notebook can be different):\n",
    "<img src=\"images/colab_notebook_save.png\" width=600 align=\"center\">"
   ]
  },
  {
   "cell_type": "markdown",
   "id": "c08199bc",
   "metadata": {
    "id": "c08199bc"
   },
   "source": [
    "## Task 2\n",
    "\n",
    "Following the procedure outlined in Lab 1, reproduce the code created in Exercise 7 in Google Colab. Verify that you get similar results using the same MNIST data that you used for Lab 1.\n",
    "\n",
    "To upload the Lab 1 file (or any other file) to your Google Drive, simply click on the **New** button in the top left, and then selct **File upload**:\n",
    "\n",
    "<img src=\"images/lab_upload.png\" width=600 align=\"center\">\n"
   ]
  },
  {
   "cell_type": "markdown",
   "id": "b72ccd53",
   "metadata": {
    "id": "b72ccd53"
   },
   "source": [
    "### Extra Computational Power\n",
    "\n",
    "One reason to use Google Colab is because it offers extra computational power in the form of access to GPUs for training larger models. As this is a free service, the extra compute resources come with some limitations (see Resource Limits section in the [FAQ](https://research.google.com/colaboratory/faq.html)). To access these extra compute resources, select the **Runtime** tab:\n",
    "\n",
    "<img src=\"images/runtime_1.png\" width=600 align=\"center\">\n",
    "\n",
    "Then select **Change runtime type**, choose **GPU** from the drop-down menu, and click **Save**:\n",
    "\n",
    "<img src=\"images/runtime_2.png\" width=600 align=\"center\">\n",
    "\n",
    "Now, when you run code in that notebook, it can run on GPUs instead of CPUs."
   ]
  },
  {
   "cell_type": "code",
   "execution_count": null,
   "id": "4ca6020d",
   "metadata": {
    "id": "4ca6020d"
   },
   "outputs": [],
   "source": []
  },
  {
   "cell_type": "markdown",
   "id": "b6dafb6b",
   "metadata": {
    "id": "b6dafb6b"
   },
   "source": [
    "## Task 3\n",
    "\n",
    "The first step here is to upload the **Lego_small** data ([source](https://www.kaggle.com/joosthazelzet/lego-brick-images) that was provided with this notebook. (**Do not use the data from the *source* link.**) To do this, just upload the entire folder to your Google Drive. When you have done that you should have a folder structure that looks something like this:\n",
    "\n",
    "<img src=\"images/lab_upload_lego.png\" width=600 align=\"center\">"
   ]
  },
  {
   "cell_type": "markdown",
   "id": "cdcc8d7c",
   "metadata": {
    "id": "cdcc8d7c"
   },
   "source": [
    "To have access to the data in your Google Drive, you will need to run the following code to 'mount' your Drive so it is accessible to the notebook you are running on Google Colab. When you run the code, following the instructions so that your notebook can access the data."
   ]
  },
  {
   "cell_type": "code",
   "execution_count": null,
   "id": "d0a24fec",
   "metadata": {
    "id": "d0a24fec"
   },
   "outputs": [],
   "source": [
    "from google.colab import drive\n",
    "\n",
    "drive.mount('/content/drive')"
   ]
  },
  {
   "cell_type": "markdown",
   "id": "dc73cc96",
   "metadata": {
    "id": "dc73cc96"
   },
   "source": [
    "Now, you need to convert the images you just uploaded into a data structure similar to the MNIST data from Lab 1. The number of images and the pixel dimensions are, however, different than the MNIST data.\n",
    "\n",
    "**The goal here is to get the data into the correct shape so that you can use it with a fully connected neural network.**\n",
    "\n",
    "To accomplish this task, you will need to:\n",
    " - load the images from the various folders of the provided data\n",
    " - make sure they are grayscale and not RGB\n",
    " - convert the images to NumPy arrays\n",
    " - resize any images that are not the correct size\n",
    " - store these arrays in the proper shape in an appropriate data structure\n",
    " - create a target array to keep track of the proper class of each image in your data\n",
    " - view a few images after processing to verify that everything is working as it should\n",
    " - convert image arrays to one-dimensional and scale the pixel values so they are between 0 and 1\n",
    " - verify the images and target arrays have the correct dimensions\n",
    " - convert string labels to integers\n",
    "\n",
    "Aside from the packages imported below, you may find the following helpful to process the images properly:\n",
    " - [info](https://realpython.com/python-pathlib/) on `Path` so you know how to create a path to the images\n",
    " - the `.name` method that can the file or directory name from a `Path` object\n",
    " - the `.reshape()` method\n",
    " - the `.append()` method\n",
    "\n",
    "**Note that not all of the tasks above have starter code below, so be sure you have completed all tasks.**"
   ]
  },
  {
   "cell_type": "code",
   "execution_count": null,
   "id": "d94e74d7",
   "metadata": {
    "id": "d94e74d7"
   },
   "outputs": [],
   "source": [
    "from tensorflow.keras.preprocessing.image import load_img, img_to_array, smart_resize\n",
    "import matplotlib.pyplot as plt\n",
    "from pathlib import Path\n",
    "import numpy as np"
   ]
  },
  {
   "cell_type": "markdown",
   "id": "c80299e6",
   "metadata": {
    "id": "c80299e6"
   },
   "source": [
    "Fill in the missing elements of the starter code below."
   ]
  },
  {
   "cell_type": "code",
   "execution_count": null,
   "id": "2cb5a124",
   "metadata": {
    "id": "2cb5a124"
   },
   "outputs": [],
   "source": [
    "p = Path().cwd()\n",
    "q =  p / 'Lego_small' # None # use p to create a path to the data\n",
    "\n",
    "target_dict = None # create dictionary mapping Lego block type to integer label\n",
    "images = None # create an empty list\n",
    "labels = None # create an empty list\n",
    "\n",
    "for fldr in q.iterdir():\n",
    "    current_label = None # get the name of the current label\n",
    "    for img in None:\n",
    "        img = None # load a grayscale image\n",
    "        img_array = None # convert the image to an NumPy array\n",
    "        img_array_resized = None # resize the image to 128 by 128\n",
    "        img_array_reshaped = None # reshape the image from (128, 128, 1) to (128, 128)\n",
    "        # add reshaped image to list of images\n",
    "        # add label for this image to the list of labels\n",
    "\n",
    "images = None # convert the list of images to a NumPy array\n",
    "labels = None # convert the list of labels to a NumPy array"
   ]
  },
  {
   "cell_type": "code",
   "execution_count": null,
   "id": "7e46b22a",
   "metadata": {
    "id": "7e46b22a"
   },
   "outputs": [],
   "source": [
    "# use plt.imshow() to view a few of the grayscale images\n",
    "\n",
    "plt.imshow(None, cmap='gray')"
   ]
  },
  {
   "cell_type": "code",
   "execution_count": null,
   "id": "91df13f9",
   "metadata": {
    "id": "91df13f9"
   },
   "outputs": [],
   "source": [
    "labels_int = None # use the target_dict to convert the string labels to an array of integers"
   ]
  },
  {
   "cell_type": "markdown",
   "id": "pXyIRiIoho6U",
   "metadata": {
    "id": "pXyIRiIoho6U"
   },
   "source": [
    "**Answer the following questions briefly**\n",
    "\n",
    "1. Why do you convert all the images to same dimensions?\n",
    "2. Why do you reshape the images?\n",
    "3. Based on the images and labels obtained after all of the above preprocessing steps, how many neurons will be created in the input and output layers for the fully linked network that you will construct in Lab 2 - Part 2?\n",
    "\n",
    "\n",
    "\n",
    "\n"
   ]
  }
 ],
 "metadata": {
  "colab": {
   "provenance": []
  },
  "kernelspec": {
   "display_name": "Python 3 (ipykernel)",
   "language": "python",
   "name": "python3"
  },
  "language_info": {
   "codemirror_mode": {
    "name": "ipython",
    "version": 3
   },
   "file_extension": ".py",
   "mimetype": "text/x-python",
   "name": "python",
   "nbconvert_exporter": "python",
   "pygments_lexer": "ipython3",
   "version": "3.9.13"
  }
 },
 "nbformat": 4,
 "nbformat_minor": 5
}
