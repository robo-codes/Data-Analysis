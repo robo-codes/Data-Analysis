{
 "cells": [
  {
   "cell_type": "markdown",
   "id": "73cd47ce-01e9-470f-b618-f723695a9e76",
   "metadata": {},
   "source": [
    "## Practice Lab 2: Decision tree from scratch (well, we hope!)"
   ]
  },
  {
   "cell_type": "markdown",
   "id": "647926c2",
   "metadata": {},
   "source": [
    "### Decision Trees\n",
    "- Benefits\n",
    "    - Generalize\n",
    "    - No assumptions about the data\n",
    "    - Interpretable\n",
    "    - Feature importance\n",
    "- Drowbacks\n",
    "    - Tend to overfit"
   ]
  },
  {
   "cell_type": "markdown",
   "id": "9e296fb4",
   "metadata": {},
   "source": [
    "### Decision Tree Regressor Recipe\n",
    "\n",
    "- Decide the features and target variables.\n",
    "\n",
    "- Split the data:\n",
    "    - split the split points for all features!\n",
    "    - Pick the error to use.\n",
    "    - Calculate an error for the root node.\n",
    "    - Make and calculate errors for each split.\n",
    "\n",
    "- Select and use the best split:\n",
    "    - Best split = least error.\n",
    "\n",
    "- Repeat the for the nest nodes( True/Right and False/Left):\n"
   ]
  },
  {
   "cell_type": "markdown",
   "id": "776c42dc-7a82-466b-99ba-e7797f69cab2",
   "metadata": {},
   "source": [
    "### Part 1\n",
    "- create random list of 5 integers\n",
    " - create a function that will find the split values by\n",
    "     - sorting the list from lowest to highest value\n",
    "     - finding the midpoint for each consecutive pair of values\n",
    "     - returning midpoints as a list\n",
    " - create new random list of 5 integers and test your split values function "
   ]
  },
  {
   "cell_type": "markdown",
   "id": "cd9b9dd9-3a96-4b3b-8ed3-218e7eb0c782",
   "metadata": {},
   "source": [
    "> wherever you see `list` you can always substitute with `ndarray` if more appropriate"
   ]
  },
  {
   "cell_type": "code",
   "execution_count": 2,
   "id": "f4e779eb-20d5-47c9-af8f-ca031a74ec26",
   "metadata": {},
   "outputs": [],
   "source": [
    "import random\n",
    "import numpy as np"
   ]
  },
  {
   "cell_type": "code",
   "execution_count": 28,
   "id": "c306ca65",
   "metadata": {},
   "outputs": [
    {
     "name": "stdout",
     "output_type": "stream",
     "text": [
      "[41, 87, 78, 58, 6]\n"
     ]
    },
    {
     "data": {
      "text/plain": [
       "list"
      ]
     },
     "execution_count": 28,
     "metadata": {},
     "output_type": "execute_result"
    }
   ],
   "source": [
    "rl = random.sample(range(0,100),5)\n",
    "rl\n",
    "print(rl)\n",
    "type(rl)"
   ]
  },
  {
   "cell_type": "code",
   "execution_count": 26,
   "id": "b7d0887e",
   "metadata": {},
   "outputs": [],
   "source": [
    "mid = []\n",
    "def split(list):\n",
    "    list = sorted(list)\n",
    "    print(list)\n",
    "    for i in range(len(list) - 1):\n",
    "        m = (list[i] +list[i+1])/2\n",
    "        mid.append(m)\n",
    "        \n",
    "    return mid"
   ]
  },
  {
   "cell_type": "code",
   "execution_count": 27,
   "id": "25601600",
   "metadata": {},
   "outputs": [
    {
     "name": "stdout",
     "output_type": "stream",
     "text": [
      "[1, 2, 3, 20, 5, 6, 7, 100]\n",
      "[1, 2, 3, 5, 6, 7, 20, 100]\n"
     ]
    },
    {
     "data": {
      "text/plain": [
       "[1.5, 2.5, 4.0, 5.5, 6.5, 13.5, 60.0]"
      ]
     },
     "execution_count": 27,
     "metadata": {},
     "output_type": "execute_result"
    }
   ],
   "source": [
    "raj = [1,2,3,4,5,6,7,100]\n",
    "raj[3] = 20\n",
    "print(raj)\n",
    "split(raj)"
   ]
  },
  {
   "cell_type": "code",
   "execution_count": 29,
   "id": "8c5ebc2b",
   "metadata": {},
   "outputs": [
    {
     "name": "stdout",
     "output_type": "stream",
     "text": [
      "[6, 41, 58, 78, 87]\n"
     ]
    },
    {
     "data": {
      "text/plain": [
       "[1.5, 2.5, 4.0, 5.5, 6.5, 13.5, 60.0, 23.5, 49.5, 68.0, 82.5]"
      ]
     },
     "execution_count": 29,
     "metadata": {},
     "output_type": "execute_result"
    }
   ],
   "source": [
    "split(rl)\n",
    "mid"
   ]
  },
  {
   "cell_type": "code",
   "execution_count": 7,
   "id": "18064b4a",
   "metadata": {},
   "outputs": [
    {
     "name": "stdout",
     "output_type": "stream",
     "text": [
      "[46, 75, 9, 56, 54]\n",
      "[9, 46, 54, 56, 75]\n",
      "[1.5, 2.5, 4.0, 5.5, 6.5, 13.5, 60.0, 19.0, 43.5, 76.5, 95.0, 27.5, 50.0, 55.0, 65.5]\n"
     ]
    }
   ],
   "source": [
    "rm = random.sample(range(0,100),5)\n",
    "print(rm)\n",
    "split(rm)\n",
    "print(mid)"
   ]
  },
  {
   "cell_type": "markdown",
   "id": "5c0354e0-02a3-4ba4-8e7f-4a54bd68f852",
   "metadata": {},
   "source": [
    "### Part 2\n",
    " - create random array of integers in shape (5, 3)\n",
    " - create a function that iterates over the columns and calculates the split points for each column\n",
    " - return as a dictionary with column name as key and list of split points as value\n",
    " - verify by hand that you are getting the correct split points"
   ]
  },
  {
   "cell_type": "code",
   "execution_count": 8,
   "id": "f5fd98f2-7a61-41ba-a673-3107c07bcb17",
   "metadata": {},
   "outputs": [
    {
     "name": "stdout",
     "output_type": "stream",
     "text": [
      "[[97 90 85]\n",
      " [60 54  3]\n",
      " [59 26 61]\n",
      " [49 37 27]\n",
      " [73  9 86]]\n"
     ]
    }
   ],
   "source": [
    "# create random array of integers in shape (5, 3)\n",
    "ra = np.random.randint(low = 0, high = 100, size = (5, 3))\n",
    "print(ra)\n",
    " \n",
    "# create a function that iterates over the columns and calculates the split points for each column\n",
    "def split_row(arg):\n",
    "    cols = arg.shape[1]\n",
    "    rows = arg.shape[0]\n",
    "    mid_ = []\n",
    "    for col in range(cols):\n",
    "        column = arg[:, col]\n",
    "        sorted_col = np.sort(column)\n",
    "        mid = [(sorted_col[i] + sorted_col[i+1]) / 2 for i in range(len(sorted_col)-1)]\n",
    "        mid_.append(mid)\n",
    "           \n",
    "\n",
    "    return mid_\n",
    "    \n",
    "        \n",
    "    "
   ]
  },
  {
   "cell_type": "code",
   "execution_count": 9,
   "id": "e6ab93af",
   "metadata": {},
   "outputs": [
    {
     "data": {
      "text/plain": [
       "[[54.0, 59.5, 66.5, 85.0], [17.5, 31.5, 45.5, 72.0], [15.0, 44.0, 73.0, 85.5]]"
      ]
     },
     "execution_count": 9,
     "metadata": {},
     "output_type": "execute_result"
    }
   ],
   "source": [
    "split_row(ra)"
   ]
  },
  {
   "cell_type": "markdown",
   "id": "24b3bcd7-a4ad-4623-8c7e-574c202272a9",
   "metadata": {
    "tags": []
   },
   "source": [
    "### Part 3\n",
    " - create random array of integers in shape (5, 2)\n",
    " - use the first column as feature data X and the second column as regression target y\n",
    " - create a function that takes in this array and\n",
    "     - calculates the MSE of the root node\n",
    "     - calculates the split points\n",
    "     - for each split point\n",
    "         - split the data into two parts\n",
    "         - calculates the weighted MAE after the split\n",
    "     - returns the split point (and the new MAE) that reduces the MAE of the root node the most\n",
    "     \n",
    "> Note: this function could use other funtions that perform the individual steps"
   ]
  },
  {
   "cell_type": "code",
   "execution_count": 10,
   "id": "99b55a91",
   "metadata": {},
   "outputs": [
    {
     "name": "stdout",
     "output_type": "stream",
     "text": [
      "[[52 95]\n",
      " [50  1]\n",
      " [ 8 78]\n",
      " [79 11]\n",
      " [95 60]]\n",
      "[52 50  8 79 95]\n",
      "[95  1 78 11 60]\n"
     ]
    }
   ],
   "source": [
    "rb = np.random.randint(low = 0, high = 100, size = (5, 2))\n",
    "print(rb)\n",
    "X = rb[:, 0]\n",
    "print(X)\n",
    "Y = rb[:, 1]\n",
    "print(Y)"
   ]
  },
  {
   "cell_type": "code",
   "execution_count": 30,
   "id": "466b7bc5",
   "metadata": {},
   "outputs": [
    {
     "data": {
      "text/plain": [
       "[1, 11, 60, 78, 95]"
      ]
     },
     "execution_count": 30,
     "metadata": {},
     "output_type": "execute_result"
    }
   ],
   "source": [
    "Y"
   ]
  },
  {
   "cell_type": "code",
   "execution_count": 11,
   "id": "877b9401-3544-4222-a0f9-9170dec03c01",
   "metadata": {},
   "outputs": [
    {
     "name": "stdout",
     "output_type": "stream",
     "text": [
      "[1, 11, 60, 78, 95]\n",
      "49.0\n",
      "[-48. -38.  11.  29.  46.]\n",
      "6826.0\n"
     ]
    },
    {
     "data": {
      "text/plain": [
       "1365.2"
      ]
     },
     "execution_count": 11,
     "metadata": {},
     "output_type": "execute_result"
    }
   ],
   "source": [
    "Y = sorted(Y)\n",
    "split(Y)\n",
    "\n",
    "#calculates the MSE of the root node\n",
    "Y_avg = np.mean(Y)\n",
    "print(Y_avg)\n",
    "print(Y - Y_avg)\n",
    "print(np.sum((Y - Y_avg)**2))\n",
    "mse = np.mean((Y - Y_avg)**2)\n",
    "mse"
   ]
  },
  {
   "cell_type": "markdown",
   "id": "cf21274f-99ac-4eeb-a47e-0c3db31d3d61",
   "metadata": {
    "tags": []
   },
   "source": [
    "### Part 4 (Optional)\n",
    " - Modify **Part 3** code so that it can handle more than 1 feature"
   ]
  },
  {
   "cell_type": "code",
   "execution_count": null,
   "id": "dad57a39-52c3-4aaf-b2d8-3df0e397df93",
   "metadata": {},
   "outputs": [],
   "source": []
  }
 ],
 "metadata": {
  "kernelspec": {
   "display_name": "Python 3 (ipykernel)",
   "language": "python",
   "name": "python3"
  },
  "language_info": {
   "codemirror_mode": {
    "name": "ipython",
    "version": 3
   },
   "file_extension": ".py",
   "mimetype": "text/x-python",
   "name": "python",
   "nbconvert_exporter": "python",
   "pygments_lexer": "ipython3",
   "version": "3.9.13"
  }
 },
 "nbformat": 4,
 "nbformat_minor": 5
}
